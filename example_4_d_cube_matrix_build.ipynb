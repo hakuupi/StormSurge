{
 "cells": [
  {
   "cell_type": "code",
   "execution_count": 2,
   "id": "16a2c4c8",
   "metadata": {},
   "outputs": [],
   "source": [
    "import numpy as np"
   ]
  },
  {
   "cell_type": "markdown",
   "id": "4b6b7668",
   "metadata": {},
   "source": [
    "Build list of variable valies and creates an array"
   ]
  },
  {
   "cell_type": "code",
   "execution_count": 3,
   "id": "cd0b3958",
   "metadata": {
    "scrolled": true
   },
   "outputs": [
    {
     "data": {
      "text/plain": [
       "array([[[[0, 0, 0],\n",
       "         [0, 0, 0],\n",
       "         [0, 0, 0]],\n",
       "\n",
       "        [[0, 0, 0],\n",
       "         [0, 0, 0],\n",
       "         [0, 0, 0]],\n",
       "\n",
       "        [[0, 0, 0],\n",
       "         [0, 0, 0],\n",
       "         [0, 0, 0]]],\n",
       "\n",
       "\n",
       "       [[[0, 0, 0],\n",
       "         [0, 0, 0],\n",
       "         [0, 0, 0]],\n",
       "\n",
       "        [[0, 0, 0],\n",
       "         [0, 0, 0],\n",
       "         [0, 0, 0]],\n",
       "\n",
       "        [[0, 0, 0],\n",
       "         [0, 0, 0],\n",
       "         [0, 0, 0]]],\n",
       "\n",
       "\n",
       "       [[[0, 0, 0],\n",
       "         [0, 0, 0],\n",
       "         [0, 0, 0]],\n",
       "\n",
       "        [[0, 0, 0],\n",
       "         [0, 0, 0],\n",
       "         [0, 0, 0]],\n",
       "\n",
       "        [[0, 0, 0],\n",
       "         [0, 0, 0],\n",
       "         [0, 0, 0]]]], dtype=object)"
      ]
     },
     "execution_count": 3,
     "metadata": {},
     "output_type": "execute_result"
    }
   ],
   "source": [
    "a=[1, 2, 3] #lists of values to permute through in array\n",
    "b=[4, 5, 6]\n",
    "c=[7, 8, 9]\n",
    "d=[11, 12, 13]\n",
    "#build the array, note that the number of dimensions is the number of\n",
    "#of lists and the size should be the length of the lists.\n",
    "arr=np.zeros((3,3,3,3),dtype=list)\n",
    "arr"
   ]
  },
  {
   "cell_type": "markdown",
   "id": "ac9bea65",
   "metadata": {},
   "source": [
    "Place values from list into the array in lists of value"
   ]
  },
  {
   "cell_type": "code",
   "execution_count": 4,
   "id": "2a2f9fec",
   "metadata": {},
   "outputs": [],
   "source": [
    "#for loop to place list values in array. Length of each dimension defines\n",
    "#the list of the for loop.\n",
    "for i in range(len(a)):\n",
    "    for j in range(len(b)):\n",
    "        for k in range(len(c)):\n",
    "            for l in range(len(d)):\n",
    "                #note that the number of brackets denotes corresponds to\n",
    "                #the number of dimensions\n",
    "                arr[i][j][k][l]=[a[i],b[j],c[k],d[l]]"
   ]
  },
  {
   "cell_type": "code",
   "execution_count": 5,
   "id": "0bcaf65c",
   "metadata": {
    "scrolled": false
   },
   "outputs": [
    {
     "data": {
      "text/plain": [
       "array([[[[list([1, 4, 7, 11]), list([1, 4, 7, 12]),\n",
       "          list([1, 4, 7, 13])],\n",
       "         [list([1, 4, 8, 11]), list([1, 4, 8, 12]),\n",
       "          list([1, 4, 8, 13])],\n",
       "         [list([1, 4, 9, 11]), list([1, 4, 9, 12]),\n",
       "          list([1, 4, 9, 13])]],\n",
       "\n",
       "        [[list([1, 5, 7, 11]), list([1, 5, 7, 12]),\n",
       "          list([1, 5, 7, 13])],\n",
       "         [list([1, 5, 8, 11]), list([1, 5, 8, 12]),\n",
       "          list([1, 5, 8, 13])],\n",
       "         [list([1, 5, 9, 11]), list([1, 5, 9, 12]),\n",
       "          list([1, 5, 9, 13])]],\n",
       "\n",
       "        [[list([1, 6, 7, 11]), list([1, 6, 7, 12]),\n",
       "          list([1, 6, 7, 13])],\n",
       "         [list([1, 6, 8, 11]), list([1, 6, 8, 12]),\n",
       "          list([1, 6, 8, 13])],\n",
       "         [list([1, 6, 9, 11]), list([1, 6, 9, 12]),\n",
       "          list([1, 6, 9, 13])]]],\n",
       "\n",
       "\n",
       "       [[[list([2, 4, 7, 11]), list([2, 4, 7, 12]),\n",
       "          list([2, 4, 7, 13])],\n",
       "         [list([2, 4, 8, 11]), list([2, 4, 8, 12]),\n",
       "          list([2, 4, 8, 13])],\n",
       "         [list([2, 4, 9, 11]), list([2, 4, 9, 12]),\n",
       "          list([2, 4, 9, 13])]],\n",
       "\n",
       "        [[list([2, 5, 7, 11]), list([2, 5, 7, 12]),\n",
       "          list([2, 5, 7, 13])],\n",
       "         [list([2, 5, 8, 11]), list([2, 5, 8, 12]),\n",
       "          list([2, 5, 8, 13])],\n",
       "         [list([2, 5, 9, 11]), list([2, 5, 9, 12]),\n",
       "          list([2, 5, 9, 13])]],\n",
       "\n",
       "        [[list([2, 6, 7, 11]), list([2, 6, 7, 12]),\n",
       "          list([2, 6, 7, 13])],\n",
       "         [list([2, 6, 8, 11]), list([2, 6, 8, 12]),\n",
       "          list([2, 6, 8, 13])],\n",
       "         [list([2, 6, 9, 11]), list([2, 6, 9, 12]),\n",
       "          list([2, 6, 9, 13])]]],\n",
       "\n",
       "\n",
       "       [[[list([3, 4, 7, 11]), list([3, 4, 7, 12]),\n",
       "          list([3, 4, 7, 13])],\n",
       "         [list([3, 4, 8, 11]), list([3, 4, 8, 12]),\n",
       "          list([3, 4, 8, 13])],\n",
       "         [list([3, 4, 9, 11]), list([3, 4, 9, 12]),\n",
       "          list([3, 4, 9, 13])]],\n",
       "\n",
       "        [[list([3, 5, 7, 11]), list([3, 5, 7, 12]),\n",
       "          list([3, 5, 7, 13])],\n",
       "         [list([3, 5, 8, 11]), list([3, 5, 8, 12]),\n",
       "          list([3, 5, 8, 13])],\n",
       "         [list([3, 5, 9, 11]), list([3, 5, 9, 12]),\n",
       "          list([3, 5, 9, 13])]],\n",
       "\n",
       "        [[list([3, 6, 7, 11]), list([3, 6, 7, 12]),\n",
       "          list([3, 6, 7, 13])],\n",
       "         [list([3, 6, 8, 11]), list([3, 6, 8, 12]),\n",
       "          list([3, 6, 8, 13])],\n",
       "         [list([3, 6, 9, 11]), list([3, 6, 9, 12]),\n",
       "          list([3, 6, 9, 13])]]]], dtype=object)"
      ]
     },
     "execution_count": 5,
     "metadata": {},
     "output_type": "execute_result"
    }
   ],
   "source": [
    "arr"
   ]
  },
  {
   "cell_type": "markdown",
   "id": "275558d6",
   "metadata": {},
   "source": [
    "Find the shape of the array, and then calls each of the elements"
   ]
  },
  {
   "cell_type": "code",
   "execution_count": 6,
   "id": "b8864722",
   "metadata": {},
   "outputs": [],
   "source": [
    "#the shape of the array defines the for loop parameters\n",
    "a1,b1,c1,d1 = arr.shape"
   ]
  },
  {
   "cell_type": "code",
   "execution_count": 7,
   "id": "a506e0fc",
   "metadata": {},
   "outputs": [
    {
     "name": "stdout",
     "output_type": "stream",
     "text": [
      "[1, 4, 7, 11]\n",
      "[1, 4, 7, 12]\n",
      "[1, 4, 7, 13]\n",
      "[1, 4, 8, 11]\n",
      "[1, 4, 8, 12]\n",
      "[1, 4, 8, 13]\n",
      "[1, 4, 9, 11]\n",
      "[1, 4, 9, 12]\n",
      "[1, 4, 9, 13]\n",
      "[1, 5, 7, 11]\n",
      "[1, 5, 7, 12]\n",
      "[1, 5, 7, 13]\n",
      "[1, 5, 8, 11]\n",
      "[1, 5, 8, 12]\n",
      "[1, 5, 8, 13]\n",
      "[1, 5, 9, 11]\n",
      "[1, 5, 9, 12]\n",
      "[1, 5, 9, 13]\n",
      "[1, 6, 7, 11]\n",
      "[1, 6, 7, 12]\n",
      "[1, 6, 7, 13]\n",
      "[1, 6, 8, 11]\n",
      "[1, 6, 8, 12]\n",
      "[1, 6, 8, 13]\n",
      "[1, 6, 9, 11]\n",
      "[1, 6, 9, 12]\n",
      "[1, 6, 9, 13]\n",
      "[2, 4, 7, 11]\n",
      "[2, 4, 7, 12]\n",
      "[2, 4, 7, 13]\n",
      "[2, 4, 8, 11]\n",
      "[2, 4, 8, 12]\n",
      "[2, 4, 8, 13]\n",
      "[2, 4, 9, 11]\n",
      "[2, 4, 9, 12]\n",
      "[2, 4, 9, 13]\n",
      "[2, 5, 7, 11]\n",
      "[2, 5, 7, 12]\n",
      "[2, 5, 7, 13]\n",
      "[2, 5, 8, 11]\n",
      "[2, 5, 8, 12]\n",
      "[2, 5, 8, 13]\n",
      "[2, 5, 9, 11]\n",
      "[2, 5, 9, 12]\n",
      "[2, 5, 9, 13]\n",
      "[2, 6, 7, 11]\n",
      "[2, 6, 7, 12]\n",
      "[2, 6, 7, 13]\n",
      "[2, 6, 8, 11]\n",
      "[2, 6, 8, 12]\n",
      "[2, 6, 8, 13]\n",
      "[2, 6, 9, 11]\n",
      "[2, 6, 9, 12]\n",
      "[2, 6, 9, 13]\n",
      "[3, 4, 7, 11]\n",
      "[3, 4, 7, 12]\n",
      "[3, 4, 7, 13]\n",
      "[3, 4, 8, 11]\n",
      "[3, 4, 8, 12]\n",
      "[3, 4, 8, 13]\n",
      "[3, 4, 9, 11]\n",
      "[3, 4, 9, 12]\n",
      "[3, 4, 9, 13]\n",
      "[3, 5, 7, 11]\n",
      "[3, 5, 7, 12]\n",
      "[3, 5, 7, 13]\n",
      "[3, 5, 8, 11]\n",
      "[3, 5, 8, 12]\n",
      "[3, 5, 8, 13]\n",
      "[3, 5, 9, 11]\n",
      "[3, 5, 9, 12]\n",
      "[3, 5, 9, 13]\n",
      "[3, 6, 7, 11]\n",
      "[3, 6, 7, 12]\n",
      "[3, 6, 7, 13]\n",
      "[3, 6, 8, 11]\n",
      "[3, 6, 8, 12]\n",
      "[3, 6, 8, 13]\n",
      "[3, 6, 9, 11]\n",
      "[3, 6, 9, 12]\n",
      "[3, 6, 9, 13]\n"
     ]
    }
   ],
   "source": [
    "#the nested lists allows you to call elements.\n",
    "for q in range(a1):\n",
    "    for w in range(b1):\n",
    "        for e in range(c1):\n",
    "            for r in range(d1):\n",
    "                print(arr[q][w][e][r])"
   ]
  }
 ],
 "metadata": {
  "kernelspec": {
   "display_name": "Python 3 (ipykernel)",
   "language": "python",
   "name": "python3"
  },
  "language_info": {
   "codemirror_mode": {
    "name": "ipython",
    "version": 3
   },
   "file_extension": ".py",
   "mimetype": "text/x-python",
   "name": "python",
   "nbconvert_exporter": "python",
   "pygments_lexer": "ipython3",
   "version": "3.8.10"
  }
 },
 "nbformat": 4,
 "nbformat_minor": 5
}
