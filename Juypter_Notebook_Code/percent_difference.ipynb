{
 "cells": [
  {
   "cell_type": "code",
   "execution_count": 1,
   "id": "b7676ac2",
   "metadata": {},
   "outputs": [],
   "source": [
    "import numpy as np\n",
    "import matplotlib.pyplot as plt\n",
    "import pandas as pd"
   ]
  },
  {
   "cell_type": "code",
   "execution_count": 48,
   "id": "637698ab",
   "metadata": {},
   "outputs": [],
   "source": [
    "sillmin_d = [404.625,406.7,408.775,410.85,412.925,415.0,417.075,419.15,421.225,423.3,425.375]\n",
    "sillmax_d = [414.375,416.5,418.625,420.75,422.875,425.0,427.125,429.25,431.375,433.5,435.625]\n",
    "sillslope_d =[0.009,0.0092,0.0094,0.0096,0.0098,0.01,0.0102,0.0104,0.0106,0.0108,0.011]\n",
    "dfH = pd.DataFrame(columns=[*range(2301)])\n",
    "dfL = pd.DataFrame(columns=[*range(2301)])\n",
    "arr=np.zeros((6,6,len(sillslope_d)),dtype=list)\n",
    "for l in range(len(sillmin_d)):\n",
    "    for m in range(len(sillmax_d)):\n",
    "        for n in range(len(sillslope_d)):\n",
    "            d = pd.read_csv(f\"/Users/loganknudsen/Documents/GitHub/StormSurge/Experiment_Data/data_matrix_10/smbt11950smbtf2300smb00.3smb10.15smbf0.0sillmin{sillmin_d[l]}sillmax{sillmax_d[m]}sillslope{sillslope_d[n]}hnd2.18lnd4.44bx-0.001.csv\")\n",
    "            dfH = dfH.append(d[[\"H\"]].T)\n",
    "            dfL = dfL.append(d[[\"L\"]].T)"
   ]
  },
  {
   "cell_type": "code",
   "execution_count": 63,
   "id": "c60ea88f",
   "metadata": {},
   "outputs": [
    {
     "data": {
      "text/plain": [
       "0       0.000000\n",
       "1       0.003152\n",
       "2       0.006098\n",
       "3       0.008863\n",
       "4       0.011466\n",
       "          ...   \n",
       "2296    0.095123\n",
       "2297    0.095168\n",
       "2298    0.095212\n",
       "2299    0.095256\n",
       "2300    0.095301\n",
       "Length: 2301, dtype: float64"
      ]
     },
     "execution_count": 63,
     "metadata": {},
     "output_type": "execute_result"
    }
   ],
   "source": [
    "np.abs(dfH.max()-dfH.min())/((dfH.max()+dfH.min())/2)"
   ]
  },
  {
   "cell_type": "code",
   "execution_count": null,
   "id": "26bdc212",
   "metadata": {},
   "outputs": [],
   "source": []
  },
  {
   "cell_type": "code",
   "execution_count": null,
   "id": "29c94c70",
   "metadata": {},
   "outputs": [],
   "source": []
  }
 ],
 "metadata": {
  "kernelspec": {
   "display_name": "Python 3 (ipykernel)",
   "language": "python",
   "name": "python3"
  },
  "language_info": {
   "codemirror_mode": {
    "name": "ipython",
    "version": 3
   },
   "file_extension": ".py",
   "mimetype": "text/x-python",
   "name": "python",
   "nbconvert_exporter": "python",
   "pygments_lexer": "ipython3",
   "version": "3.8.10"
  }
 },
 "nbformat": 4,
 "nbformat_minor": 5
}
