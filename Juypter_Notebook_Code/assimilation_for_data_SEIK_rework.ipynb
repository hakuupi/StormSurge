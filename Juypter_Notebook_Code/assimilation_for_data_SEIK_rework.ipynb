{
 "cells": [
  {
   "cell_type": "code",
   "execution_count": 1,
   "id": "6e2ef1ca",
   "metadata": {
    "scrolled": true
   },
   "outputs": [],
   "source": [
    "import numpy as np\n",
    "import matplotlib.pyplot as plt\n",
    "import pandas as pd\n",
    "import random as rd\n",
    "import math as mt\n",
    "import scipy.stats as sc"
   ]
  },
  {
   "cell_type": "code",
   "execution_count": 2,
   "id": "ed03be71",
   "metadata": {
    "scrolled": true
   },
   "outputs": [],
   "source": [
    "def bedtopo(L,*args):  #bed to topography L- length of glacier\n",
    "    b0 = args[0]   #b0: glacier start point\n",
    "    bx = args[1]   #bx: glacier slope\n",
    "    sillmin = args[2]   #start of reverse slope\n",
    "    sillmax = args[3]   #end of reverse slope\n",
    "    sillslope = args[4]   #slope of reverse slope\n",
    "    \n",
    "    if L < sillmin: #if glacier is shorter than reverse slope\n",
    "        b = b0 + bx*L\n",
    "    elif L < sillmax: #if glacier terminates on reverse slope\n",
    "        b = b0 + bx*sillmin + sillslope*(L-sillmin)\n",
    "    else: #if glacier terminates after reverse slope\n",
    "        b = b0 + bx*sillmin + sillslope*(sillmax-sillmin) + bx*(L-sillmax)\n",
    "        \n",
    "    return b"
   ]
  },
  {
   "cell_type": "code",
   "execution_count": 3,
   "id": "e83cb849",
   "metadata": {
    "scrolled": true
   },
   "outputs": [],
   "source": [
    "def TwoStage_timedep(state,*args): #Robel et al. 2018 two-stage model\n",
    "    \n",
    "    Hnd, Lnd = state #Unpack the state vector, Hnd n-dim thickness\n",
    "    #Lnd n-dim length\n",
    "    f = np.zeros(2) #Derivatives\n",
    "    \n",
    "    smb0 = args[0] #P (precipitation) at time 0\n",
    "    smb1 = args[1] #P (precipitation) at time 1\n",
    "    smbf = args[2] #P (precipitation) at time f\n",
    "    gamma = args[3] #Q coefficient\n",
    "    omega = args[4] #Q_g coefficient\n",
    "    time = args[5]\n",
    "    t1 = args[6]\n",
    "    tfinal = args[7]\n",
    "#    b0 = args[3]\n",
    "#    bx = args[4]\n",
    "#    sillmin = args[5]\n",
    "#    sillmax = args[6]\n",
    "#    sillslope = args[7]\n",
    "\n",
    "    b0 = 0   #glacier start point\n",
    "    bx = args[11]   #glacier slope\n",
    "    sillmin = args[8]*1e3   #reverse slope start point\n",
    "    sillmax = args[9]*1e3   #reverse slope ends point\n",
    "    sillslope = args[10]    #reverse slope slope\n",
    "    \n",
    "    rhow = 1028   #density of water\n",
    "    rhoi = 917   #denisty of ice\n",
    "    n = 3   \n",
    "    beta = 3 \n",
    "    Lscale = 100e3   #scale for length, it is on the order of 10E4 or 1E5\n",
    "    Hscale = 1000   #scale for thickness, it is on the order of 10E2 or 1E3\n",
    "    \n",
    "    H = Hnd*Hscale #icethickness\n",
    "    L = Lnd*Lscale #length of glacier\n",
    "    \n",
    "    if time < t1:\n",
    "        smb = smb0 + (smb1-smb0)*time/t1\n",
    "    else:\n",
    "        smb = smb1 + (smbf-smb1)*time/(tfinal-t1) \n",
    "    #see below for write out of the functions in mathematical notation\n",
    "    hg = -(rhow/rhoi)*bedtopo(L,b0,bx,sillmin,sillmax,sillslope)   # #1\n",
    "    Q = gamma * (H**(2*n + 1))/(L**n)   # #2\n",
    "    Qg = omega * (hg**beta)   # #3\n",
    "    \n",
    "    f[0] = (smb - (Qg/L) - (H/(hg*L))*(Q-Qg))/Hscale   # #4\n",
    "    f[1] = (Q-Qg)/hg/Lscale   # #5\n",
    "    return f "
   ]
  },
  {
   "cell_type": "code",
   "execution_count": 4,
   "id": "a16e6f1b",
   "metadata": {
    "scrolled": true
   },
   "outputs": [],
   "source": [
    "def RK4(rhs,state,dt,*args): #ask for explanation\n",
    "    \n",
    "    k1 = rhs(state,*args)\n",
    "    k2 = rhs(state+k1*dt/2,*args)\n",
    "    k3 = rhs(state+k2*dt/2,*args)\n",
    "    k4 = rhs(state+k3*dt,*args)\n",
    "\n",
    "    new_state = state + (dt/6)*(k1+2*k2+2*k3+k4)\n",
    "    return new_state"
   ]
  },
  {
   "cell_type": "code",
   "execution_count": 5,
   "id": "c93a99e8",
   "metadata": {
    "scrolled": true
   },
   "outputs": [],
   "source": [
    "r= 2\n",
    "T = np.vstack((np.eye(r),np.zeros((1,r)))) - (1/(r+1))*np.ones((r+1,r))\n"
   ]
  },
  {
   "cell_type": "code",
   "execution_count": 6,
   "id": "aff2b5cc",
   "metadata": {
    "scrolled": true
   },
   "outputs": [],
   "source": [
    "# Observation operators\n",
    "def h(u):   #identity oberservation operator?\n",
    "    w = u\n",
    "    return w\n",
    "\n",
    "def Dh(u):   #identity operator for matrix of size Dh\n",
    "    n = len(u)\n",
    "    D = np.eye(n)\n",
    "    return D"
   ]
  },
  {
   "cell_type": "code",
   "execution_count": 8,
   "id": "e3e2a189",
   "metadata": {
    "scrolled": true
   },
   "outputs": [],
   "source": [
    "#load in data and turn it into the uTrue\n",
    "u=pd.read_csv(\"/Users/loganknudsen/Documents/GitHub/StormSurge/Experiment_Data/data_single_cases/truth_simulation/smbt11950smbtf2300smb00.3smb10.15smbf0.0sillmin415sillmax425sillslope0.01hnd2.18lnd4.44bx-0.001.csv\")\n",
    "b=np.zeros((len(u),2))\n",
    "b[:,0]=u[\"H\"]\n",
    "b[:,1]=u[\"L\"]\n",
    "uTrue=b.T"
   ]
  },
  {
   "cell_type": "code",
   "execution_count": 10,
   "id": "fa1b011d",
   "metadata": {
    "scrolled": true
   },
   "outputs": [],
   "source": [
    "nd = 2 #degrees of freedom (number of prognositic equations in model)\n",
    "# parameters\n",
    "smb0 = 0.35\n",
    "smb1 = 0.15\n",
    "smbf = 0.0\n",
    "t1 = 1950\n",
    "gamma = 0.05\n",
    "omega = 8e-8\n",
    "#b0 = 0\n",
    "bx = -0.001\n",
    "sillmin = 415\n",
    "sillmax = 425\n",
    "sillslope = 0.008\n",
    "\n",
    "dt = 1\n",
    "tm = 2300\n",
    "nt = int(tm/dt)\n",
    "#all possible time values\n",
    "t = np.linspace(0,tm,nt+1)\n",
    "u0True = np.array([2.18,4.44]) # True initial conditions\n",
    "# first is H, second is L\n",
    "#np.random.seed(seed=1)\n",
    "sig_m_acc= 0.1  # standard deviation for accurate measurement noise\n",
    "sig_m_inacc= 0.07  # standard deviation for inaccurate measurement noise\n",
    "#chooses dates for \"measurements\" and create list of them\n",
    "ind_m_inacc = np.linspace(200,1800,9).astype(int) #np.array([1000,1900])\n",
    "ind_m_acc = np.linspace(2001,2020,20).astype(int)\n",
    "ind_m = np.concatenate((ind_m_inacc,ind_m_acc))\n",
    "#pullls dates from all possible time values\n",
    "t_m = t[ind_m]\n",
    "nt_m = np.size(ind_m)\n",
    "#creates list of standard deviation to use\n",
    "sig_m =  np.zeros(nt+1)\n",
    "sig_m[ind_m_inacc] = sig_m_inacc\n",
    "sig_m[ind_m_acc] = sig_m_acc\n",
    "\n",
    "#time integration\n",
    "# uTrue = np.zeros([nd,nt+1])\n",
    "# uTrue[:,0] = u0True\n",
    "km = 0 #loop variable i\n",
    "w = np.zeros([nd,nt_m]) # w = will hold 'measurements'\n",
    "for k in range(nt):\n",
    "    time = k*dt\n",
    "    if (km<nt_m) and (k+1==ind_m[km]): # if before measurement step: don't run. If after measurement step: run.\n",
    "        w[:,km] = h(uTrue[:,k+1]) + np.random.normal(0,sig_m[k+1],[nd,]) # generates list of measurements from true values with normal randomness added\n",
    "        km = km+1  "
   ]
  },
  {
   "cell_type": "code",
   "execution_count": 9,
   "id": "62f56839",
   "metadata": {
    "scrolled": true
   },
   "outputs": [],
   "source": [
    "#save all \"obs\"\n",
    "ind_m_all = ind_m\n",
    "nt_m_all = nt_m\n",
    "w_all = w\n",
    "t_m_all = t_m\n",
    "sig_m_all = sig_m"
   ]
  },
  {
   "cell_type": "code",
   "execution_count": 10,
   "id": "acdc0c7f",
   "metadata": {
    "scrolled": true
   },
   "outputs": [],
   "source": [
    "u0b = np.array([2.3,4.6]) #\"wrong\" initial conditions (initial condition of simulation)\n",
    "#omega = 0.9*8e-8 #\"wrong\" parameter\n",
    "\n",
    "sig_b= 1.1\n",
    "B = sig_b**2*np.eye(nd) #placeholder until first filter update\n",
    "Q = 0.1*np.eye(nd)\n",
    "\n",
    "#time integration,\n",
    "ub = np.zeros([nd,nt+1])\n",
    "ub[:,0] = u0b\n",
    "ua = np.zeros([nd,nt+1])\n",
    "ua[:,0] = u0b\n",
    "ua2 = np.zeros([nd,nt+1])\n",
    "ua2[:,0] = u0b\n",
    "p = []\n",
    "\n",
    "n = nd #state dimension\n",
    "m = nd #measurement dimension\n",
    "\n",
    "# ensemble size \n",
    "N = 3\n",
    "#initialize ensemble\n",
    "uai = np.zeros([nd,N])\n",
    "uae = np.zeros([nd,N,nt+1])\n",
    "for i in range(N):\n",
    "    uai[:,i] = u0b + np.random.multivariate_normal(np.zeros(n), B)\n",
    "Q=np.cov(uai)\n",
    "## which obs to assimilate\n",
    "w = w_all\n",
    "ind_m = ind_m_all\n",
    "nt_m = nt_m_all\n",
    "t_m = t_m_all\n",
    "sig_m =  sig_m_all"
   ]
  },
  {
   "cell_type": "code",
   "execution_count": 11,
   "id": "78d74ba4",
   "metadata": {
    "scrolled": true
   },
   "outputs": [],
   "source": [
    "def rand_sphere_vect(dim):\n",
    "    vector = np.zeros((dim,1))\n",
    "    phi = [np.random.uniform(low=0,high=mt.pi) for p in range(dim-1)]\n",
    "    phi.append(np.random.uniform(low=0,high=2*mt.pi))\n",
    "    for n in range(0,dim):\n",
    "        if n != dim-1:\n",
    "            k = []\n",
    "            for n1 in range(0,n):\n",
    "                k.append(np.sin(phi[n1]))\n",
    "            k.append(np.cos(phi[n]))\n",
    "            vector[n]=np.prod(k)\n",
    "        elif n == dim-1:\n",
    "            k = []\n",
    "            for n1 in range(0,n-1):\n",
    "                k.append(np.sin(phi[n1]))\n",
    "            k.append(np.sin(phi[n-1]))\n",
    "            vector[n]=np.prod(k)\n",
    "    return vector"
   ]
  },
  {
   "cell_type": "code",
   "execution_count": 12,
   "id": "c301aed3",
   "metadata": {
    "scrolled": true
   },
   "outputs": [],
   "source": [
    "def householder(w,l):\n",
    "    h1 = np.vstack((np.eye(l-1),np.zeros(l-1)))\n",
    "    h2a = 1/(np.abs(w[-1])[0]+1)\n",
    "    wt = w[-1]+np.sign(w[-1])\n",
    "    h2b = np.vstack((w[:-1],wt))\n",
    "    h2c = w[:-1].reshape(1,-1)\n",
    "    h = h1 - h2a * h2b @ h2c\n",
    "    return h"
   ]
  },
  {
   "cell_type": "code",
   "execution_count": 13,
   "id": "8f8516c0",
   "metadata": {
    "scrolled": true
   },
   "outputs": [],
   "source": [
    "def omeg(r):\n",
    "    om = np.array([rd.sample([-1, 1],k=1)])\n",
    "    for l in range(2,r+1):\n",
    "        w = rand_sphere_vect(l)\n",
    "        h = householder(w,l)\n",
    "        om1 = h@om\n",
    "        om = np.hstack((om1, w))\n",
    "    d = householder(1/(np.sqrt(r))*np.ones((r,1)),r)\n",
    "    omf = om@d\n",
    "    return omf"
   ]
  },
  {
   "cell_type": "code",
   "execution_count": 14,
   "id": "f5ec9730",
   "metadata": {
    "scrolled": true
   },
   "outputs": [],
   "source": [
    "def SEIK(ubi,w,ObsOp,JObsOp,R,B):\n",
    "    n, r = ubi.shape\n",
    "    u, l = np.linalg.eig(B)\n",
    "    u_keys = [h for h in u]\n",
    "    eig_dict = {}\n",
    "    for i in range(len(u_keys)):\n",
    "        eig_dict[u_keys[i]] = l[:,i]\n",
    "    u_keys.sort(reverse=True)\n",
    "\n",
    "    U = np.diag(u_keys)\n",
    "    U_inv = np.linalg.inv(U)\n",
    "    L=np.array(np.vstack(u_keys[0]*eig_dict[u_keys[0]]))\n",
    "    for i in u_keys[1:]:\n",
    "        L = np.hstack((L,np.vstack(i*eig_dict[i])))\n",
    "    C_k = np.linalg.cholesky(U_inv)\n",
    "    C_k_inv = np.linalg.inv(C_k)\n",
    "    ubi_int = np.zeros([n,r])\n",
    "    X_t_1 = np.reshape(np.mean(ubi, axis = 1),(n,1))\n",
    "    for j in range(r):\n",
    "        O_k = omeg(r)\n",
    "        OC = (O_k[j,:]@C_k_inv).T\n",
    "        LOC = np.sqrt(r+1)*L@OC\n",
    "        ubi_int[0,j] = np.add(X_t_1,LOC)[0,0]\n",
    "        ubi_int[1,j] = np.add(X_t_1,LOC)[1,0]\n",
    "    uai = np.zeros([n,r])\n",
    "    #print(ubi_int)\n",
    "    for i in range(r): # forecast ensemble\n",
    "        uai[:,i] = RK4(TwoStage_timedep,ubi_int[:,i],dt,smb0,smb1,smbf,gamma,omega,time,t1,tm,sillmin,sillmax,sillslope,bx)\n",
    "    ens = np.hstack((uai,ubi_int))\n",
    "    X_avg = np.reshape(np.mean(uai, axis = 1),(n,1))\n",
    "    Q_k = np.cov(uai)\n",
    "    P_f = (1/(r+1)) * np.sum((uai - X_avg) @ (uai - X_avg).T) + Q_k\n",
    "    #print(P_f.shape[1])\n",
    "    T_k = np.vstack((np.eye(r),np.zeros((1,r)))) - (1/(r+1)) * np.ones((r+1,r))\n",
    "    L_k = np.subtract(uai,X_avg)\n",
    "    #print(uai)\n",
    "    #print(X_avg)\n",
    "    HL = np.subtract(ObsOp(uai),ObsOp(X_avg))\n",
    "    #print(\"HL\",HL.shape)\n",
    "    #print(np.linalg.inv(R).shape)\n",
    "    LTL = np.linalg.inv(L_k.T@L_k)\n",
    "    #print(\"LTL\",LTL.shape)\n",
    "    TTT = np.linalg.inv((r+1)*T_k.T@T_k)\n",
    "    #print(\"TTT\",TTT.shape)\n",
    "    LQ = L_k.T@Q_k@L_k\n",
    "    #print(LQ.shape)\n",
    "    HLRHL = HL.T@np.linalg.inv(R)@HL\n",
    "    #print(\"HLRHL\",HLRHL.shape)\n",
    "    U_k = np.linalg.inv(TTT+LTL@LQ@LTL)+HLRHL\n",
    "    G_k = L_k@U_k@HL.T@np.linalg.inv(R)\n",
    "    analysis = X_avg + G_k@(w.reshape((2,1))-ObsOp(X_avg.reshape((2,1))))\n",
    "    a = np.hstack((X_avg,analysis))\n",
    "    return a, ens"
   ]
  },
  {
   "cell_type": "code",
   "execution_count": 15,
   "id": "16a193ce",
   "metadata": {
    "scrolled": false
   },
   "outputs": [
    {
     "name": "stderr",
     "output_type": "stream",
     "text": [
      "/var/folders/n0/rsxpkn6j2xv8hrpk19m6_r6m0000gn/T/ipykernel_39328/3408414252.py:43: RuntimeWarning: invalid value encountered in double_scalars\n",
      "  Q = gamma * (H**(2*n + 1))/(L**n)   # #2\n",
      "/var/folders/n0/rsxpkn6j2xv8hrpk19m6_r6m0000gn/T/ipykernel_39328/3408414252.py:46: RuntimeWarning: invalid value encountered in double_scalars\n",
      "  f[0] = (smb - (Qg/L) - (H/(hg*L))*(Q-Qg))/Hscale   # #4\n"
     ]
    },
    {
     "ename": "LinAlgError",
     "evalue": "Singular matrix",
     "output_type": "error",
     "traceback": [
      "\u001b[0;31m---------------------------------------------------------------------------\u001b[0m",
      "\u001b[0;31mLinAlgError\u001b[0m                               Traceback (most recent call last)",
      "\u001b[0;32m/var/folders/n0/rsxpkn6j2xv8hrpk19m6_r6m0000gn/T/ipykernel_39328/1518687636.py\u001b[0m in \u001b[0;36m<module>\u001b[0;34m\u001b[0m\n\u001b[1;32m     20\u001b[0m                 \u001b[0mR\u001b[0m \u001b[0;34m=\u001b[0m \u001b[0msig_m\u001b[0m\u001b[0;34m[\u001b[0m\u001b[0mk\u001b[0m\u001b[0;34m+\u001b[0m\u001b[0;36m1\u001b[0m\u001b[0;34m]\u001b[0m\u001b[0;34m**\u001b[0m\u001b[0;36m2\u001b[0m\u001b[0;34m*\u001b[0m\u001b[0mnp\u001b[0m\u001b[0;34m.\u001b[0m\u001b[0meye\u001b[0m\u001b[0;34m(\u001b[0m\u001b[0mnd\u001b[0m\u001b[0;34m)\u001b[0m \u001b[0;31m#covariance matrix for measurement noise\u001b[0m\u001b[0;34m\u001b[0m\u001b[0;34m\u001b[0m\u001b[0m\n\u001b[1;32m     21\u001b[0m                 \u001b[0;31m# Analysis Step\u001b[0m\u001b[0;34m\u001b[0m\u001b[0;34m\u001b[0m\u001b[0;34m\u001b[0m\u001b[0m\n\u001b[0;32m---> 22\u001b[0;31m                 \u001b[0ma\u001b[0m\u001b[0;34m,\u001b[0m\u001b[0muad\u001b[0m \u001b[0;34m=\u001b[0m \u001b[0mSEIK\u001b[0m\u001b[0;34m(\u001b[0m\u001b[0muai\u001b[0m\u001b[0;34m,\u001b[0m\u001b[0mw\u001b[0m\u001b[0;34m[\u001b[0m\u001b[0;34m:\u001b[0m\u001b[0;34m,\u001b[0m\u001b[0mkm\u001b[0m\u001b[0;34m]\u001b[0m\u001b[0;34m,\u001b[0m\u001b[0mh\u001b[0m\u001b[0;34m,\u001b[0m\u001b[0mDh\u001b[0m\u001b[0;34m,\u001b[0m\u001b[0mR\u001b[0m\u001b[0;34m,\u001b[0m\u001b[0mB\u001b[0m\u001b[0;34m)\u001b[0m\u001b[0;34m\u001b[0m\u001b[0;34m\u001b[0m\u001b[0m\n\u001b[0m\u001b[1;32m     23\u001b[0m                 \u001b[0;32mfor\u001b[0m \u001b[0mi\u001b[0m \u001b[0;32min\u001b[0m \u001b[0mrange\u001b[0m\u001b[0;34m(\u001b[0m\u001b[0mN\u001b[0m\u001b[0;34m)\u001b[0m\u001b[0;34m:\u001b[0m\u001b[0;34m\u001b[0m\u001b[0;34m\u001b[0m\u001b[0m\n\u001b[1;32m     24\u001b[0m                     \u001b[0muae\u001b[0m\u001b[0;34m[\u001b[0m\u001b[0;34m:\u001b[0m\u001b[0;34m,\u001b[0m\u001b[0mi\u001b[0m\u001b[0;34m,\u001b[0m\u001b[0mk\u001b[0m\u001b[0;34m+\u001b[0m\u001b[0;36m1\u001b[0m\u001b[0;34m]\u001b[0m \u001b[0;34m=\u001b[0m \u001b[0muad\u001b[0m\u001b[0;34m[\u001b[0m\u001b[0;34m:\u001b[0m\u001b[0;34m,\u001b[0m\u001b[0mi\u001b[0m\u001b[0;34m]\u001b[0m\u001b[0;34m\u001b[0m\u001b[0;34m\u001b[0m\u001b[0m\n",
      "\u001b[0;32m/var/folders/n0/rsxpkn6j2xv8hrpk19m6_r6m0000gn/T/ipykernel_39328/3830183200.py\u001b[0m in \u001b[0;36mSEIK\u001b[0;34m(ubi, w, ObsOp, JObsOp, R, B)\u001b[0m\n\u001b[1;32m     39\u001b[0m     \u001b[0;31m#print(\"HL\",HL.shape)\u001b[0m\u001b[0;34m\u001b[0m\u001b[0;34m\u001b[0m\u001b[0;34m\u001b[0m\u001b[0m\n\u001b[1;32m     40\u001b[0m     \u001b[0;31m#print(np.linalg.inv(R).shape)\u001b[0m\u001b[0;34m\u001b[0m\u001b[0;34m\u001b[0m\u001b[0;34m\u001b[0m\u001b[0m\n\u001b[0;32m---> 41\u001b[0;31m     \u001b[0mLTL\u001b[0m \u001b[0;34m=\u001b[0m \u001b[0mnp\u001b[0m\u001b[0;34m.\u001b[0m\u001b[0mlinalg\u001b[0m\u001b[0;34m.\u001b[0m\u001b[0minv\u001b[0m\u001b[0;34m(\u001b[0m\u001b[0mL_k\u001b[0m\u001b[0;34m.\u001b[0m\u001b[0mT\u001b[0m\u001b[0;34m@\u001b[0m\u001b[0mL_k\u001b[0m\u001b[0;34m)\u001b[0m\u001b[0;34m\u001b[0m\u001b[0;34m\u001b[0m\u001b[0m\n\u001b[0m\u001b[1;32m     42\u001b[0m     \u001b[0;31m#print(\"LTL\",LTL.shape)\u001b[0m\u001b[0;34m\u001b[0m\u001b[0;34m\u001b[0m\u001b[0;34m\u001b[0m\u001b[0m\n\u001b[1;32m     43\u001b[0m     \u001b[0mTTT\u001b[0m \u001b[0;34m=\u001b[0m \u001b[0mnp\u001b[0m\u001b[0;34m.\u001b[0m\u001b[0mlinalg\u001b[0m\u001b[0;34m.\u001b[0m\u001b[0minv\u001b[0m\u001b[0;34m(\u001b[0m\u001b[0;34m(\u001b[0m\u001b[0mr\u001b[0m\u001b[0;34m+\u001b[0m\u001b[0;36m1\u001b[0m\u001b[0;34m)\u001b[0m\u001b[0;34m*\u001b[0m\u001b[0mT_k\u001b[0m\u001b[0;34m.\u001b[0m\u001b[0mT\u001b[0m\u001b[0;34m@\u001b[0m\u001b[0mT_k\u001b[0m\u001b[0;34m)\u001b[0m\u001b[0;34m\u001b[0m\u001b[0;34m\u001b[0m\u001b[0m\n",
      "\u001b[0;32m<__array_function__ internals>\u001b[0m in \u001b[0;36minv\u001b[0;34m(*args, **kwargs)\u001b[0m\n",
      "\u001b[0;32m~/opt/anaconda3/envs/geo/lib/python3.8/site-packages/numpy/linalg/linalg.py\u001b[0m in \u001b[0;36minv\u001b[0;34m(a)\u001b[0m\n\u001b[1;32m    543\u001b[0m     \u001b[0msignature\u001b[0m \u001b[0;34m=\u001b[0m \u001b[0;34m'D->D'\u001b[0m \u001b[0;32mif\u001b[0m \u001b[0misComplexType\u001b[0m\u001b[0;34m(\u001b[0m\u001b[0mt\u001b[0m\u001b[0;34m)\u001b[0m \u001b[0;32melse\u001b[0m \u001b[0;34m'd->d'\u001b[0m\u001b[0;34m\u001b[0m\u001b[0;34m\u001b[0m\u001b[0m\n\u001b[1;32m    544\u001b[0m     \u001b[0mextobj\u001b[0m \u001b[0;34m=\u001b[0m \u001b[0mget_linalg_error_extobj\u001b[0m\u001b[0;34m(\u001b[0m\u001b[0m_raise_linalgerror_singular\u001b[0m\u001b[0;34m)\u001b[0m\u001b[0;34m\u001b[0m\u001b[0;34m\u001b[0m\u001b[0m\n\u001b[0;32m--> 545\u001b[0;31m     \u001b[0mainv\u001b[0m \u001b[0;34m=\u001b[0m \u001b[0m_umath_linalg\u001b[0m\u001b[0;34m.\u001b[0m\u001b[0minv\u001b[0m\u001b[0;34m(\u001b[0m\u001b[0ma\u001b[0m\u001b[0;34m,\u001b[0m \u001b[0msignature\u001b[0m\u001b[0;34m=\u001b[0m\u001b[0msignature\u001b[0m\u001b[0;34m,\u001b[0m \u001b[0mextobj\u001b[0m\u001b[0;34m=\u001b[0m\u001b[0mextobj\u001b[0m\u001b[0;34m)\u001b[0m\u001b[0;34m\u001b[0m\u001b[0;34m\u001b[0m\u001b[0m\n\u001b[0m\u001b[1;32m    546\u001b[0m     \u001b[0;32mreturn\u001b[0m \u001b[0mwrap\u001b[0m\u001b[0;34m(\u001b[0m\u001b[0mainv\u001b[0m\u001b[0;34m.\u001b[0m\u001b[0mastype\u001b[0m\u001b[0;34m(\u001b[0m\u001b[0mresult_t\u001b[0m\u001b[0;34m,\u001b[0m \u001b[0mcopy\u001b[0m\u001b[0;34m=\u001b[0m\u001b[0;32mFalse\u001b[0m\u001b[0;34m)\u001b[0m\u001b[0;34m)\u001b[0m\u001b[0;34m\u001b[0m\u001b[0;34m\u001b[0m\u001b[0m\n\u001b[1;32m    547\u001b[0m \u001b[0;34m\u001b[0m\u001b[0m\n",
      "\u001b[0;32m~/opt/anaconda3/envs/geo/lib/python3.8/site-packages/numpy/linalg/linalg.py\u001b[0m in \u001b[0;36m_raise_linalgerror_singular\u001b[0;34m(err, flag)\u001b[0m\n\u001b[1;32m     86\u001b[0m \u001b[0;34m\u001b[0m\u001b[0m\n\u001b[1;32m     87\u001b[0m \u001b[0;32mdef\u001b[0m \u001b[0m_raise_linalgerror_singular\u001b[0m\u001b[0;34m(\u001b[0m\u001b[0merr\u001b[0m\u001b[0;34m,\u001b[0m \u001b[0mflag\u001b[0m\u001b[0;34m)\u001b[0m\u001b[0;34m:\u001b[0m\u001b[0;34m\u001b[0m\u001b[0;34m\u001b[0m\u001b[0m\n\u001b[0;32m---> 88\u001b[0;31m     \u001b[0;32mraise\u001b[0m \u001b[0mLinAlgError\u001b[0m\u001b[0;34m(\u001b[0m\u001b[0;34m\"Singular matrix\"\u001b[0m\u001b[0;34m)\u001b[0m\u001b[0;34m\u001b[0m\u001b[0;34m\u001b[0m\u001b[0m\n\u001b[0m\u001b[1;32m     89\u001b[0m \u001b[0;34m\u001b[0m\u001b[0m\n\u001b[1;32m     90\u001b[0m \u001b[0;32mdef\u001b[0m \u001b[0m_raise_linalgerror_nonposdef\u001b[0m\u001b[0;34m(\u001b[0m\u001b[0merr\u001b[0m\u001b[0;34m,\u001b[0m \u001b[0mflag\u001b[0m\u001b[0;34m)\u001b[0m\u001b[0;34m:\u001b[0m\u001b[0;34m\u001b[0m\u001b[0;34m\u001b[0m\u001b[0m\n",
      "\u001b[0;31mLinAlgError\u001b[0m: Singular matrix"
     ]
    }
   ],
   "source": [
    "km = 0\n",
    "skip = 0\n",
    "for k in range(nt):\n",
    "    #try:\n",
    "        if skip == 0:\n",
    "            time = k*dt\n",
    "            # Forecast Step\n",
    "            #background trajectory [without correction]\n",
    "            ub[:,k+1] = RK4(TwoStage_timedep,ub[:,k],dt,smb0,smb1,smbf,gamma,omega,time,t1,tm,sillmin,sillmax,sillslope,bx)\n",
    "            #EnKF trajectory [with correction at observation times]\n",
    "            for i in range(N): # forecast ensemble\n",
    "                uai[:,i] = RK4(TwoStage_timedep,uai[:,i],dt,smb0,smb1,smbf,gamma,omega,time,t1,tm,sillmin,sillmax,sillslope,bx)\n",
    "                uae[:,i,k+1] = uai[:,i]\n",
    "            \n",
    "            ua2[:,k+1] = np.mean(uae[:,:,k+1],1)\n",
    "            # compute forecast error covariance matrix\n",
    "            B = (1/(N)) * (uai - ua2[:,k+1].reshape(-1,1)) @ (uai - ua2[:,k+1].reshape(-1,1)).T + Q\n",
    "\n",
    "            if (km<nt_m) and (k+1==ind_m[km]):\n",
    "                R = sig_m[k+1]**2*np.eye(nd) #covariance matrix for measurement noise\n",
    "                # Analysis Step\n",
    "                a,uad = SEIK(uai,w[:,km],h,Dh,R,B)\n",
    "                for i in range(N):\n",
    "                    uae[:,i,k+1] = uad[:,i]\n",
    "                    uae[:,i,k+2] = uad[:,i+3]\n",
    "                    uai[:, i] = uad[:,i+3]\n",
    "                #p.append(ve.tolist())\n",
    "                # compute the mean of analysis ensemble\n",
    "                ua[0,k+1] = a[0,0]\n",
    "                ua[1,k+1] = a[1,0]\n",
    "                ua[0,k+2] = a[0,1]\n",
    "                ua[1,k+2] = a[1,1]\n",
    "                km = km+1\n",
    "                skip = 1\n",
    "                continue\n",
    "            # compute the mean of forecast ensemble\n",
    "            ua[:,k+1] = np.mean(uai,1)\n",
    "        elif skip == 1 :\n",
    "            skip = 0\n",
    "#     except:\n",
    "#         print(k)\n",
    "#         continue"
   ]
  },
  {
   "cell_type": "code",
   "execution_count": null,
   "id": "153693a1",
   "metadata": {},
   "outputs": [],
   "source": [
    "ua"
   ]
  },
  {
   "cell_type": "code",
   "execution_count": 16,
   "id": "e65dafa6",
   "metadata": {
    "scrolled": false
   },
   "outputs": [
    {
     "data": {
      "image/png": "[encoded data removed]",
      "text/plain": [
       "<Figure size 720x576 with 2 Axes>"
      ]
     },
     "metadata": {
      "needs_background": "light"
     },
     "output_type": "display_data"
    }
   ],
   "source": [
    "fig, ax = plt.subplots(nrows=nd,ncols=1, figsize=(10,8))\n",
    "ax = ax.flat\n",
    "\n",
    "for k in range(nd):\n",
    "    ax[k].plot(t,uTrue[k,:], label='Truth (hidden)', linewidth = 4)\n",
    "    #ax[k].plot(t,ub[k,:], ':', label='Background', linewidth = 3)\n",
    "    ax[k].plot(t[ind_m],w[k,:], 'o', fillstyle='none', \\\n",
    "               label='Observations', markersize = 8, markeredgewidth = 2, color = 'g')\n",
    "    ax[k].set_xlabel('t',fontsize=14)\n",
    "    #ax[k].axvspan(0, tm_m, color='y', alpha=0.4, lw=0)\n",
    "    for j in range(N):\n",
    "        ax[k].plot(t[1:],uae[k,j,1:], '-', linewidth = 1, color='r')\n",
    "    ax[k].plot(t,ua[k,:], '-', label='Analysis', linewidth = 4, color = 'k')\n",
    "\n",
    "ax[0].legend(loc=\"center\", bbox_to_anchor=(0.5,1.25),ncol =4,fontsize=15)\n",
    "\n",
    "ax[0].set_ylabel('H(t)', labelpad=5, fontsize=14)\n",
    "ax[1].set_ylabel('L(t)', labelpad=5, fontsize=14)\n",
    "#ax[2].set_ylabel('z(t)')\n",
    "fig.subplots_adjust(hspace=0.5)"
   ]
  },
  {
   "cell_type": "code",
   "execution_count": null,
   "id": "da895253",
   "metadata": {
    "scrolled": true
   },
   "outputs": [],
   "source": [
    "plt.scatter(ind_m[:],p[:])"
   ]
  },
  {
   "cell_type": "code",
   "execution_count": null,
   "id": "cfef14e3",
   "metadata": {
    "scrolled": true
   },
   "outputs": [],
   "source": [
    "#creates first and second data frame to save with\n",
    "dft=pd.DataFrame(t.T, columns=['t'])\n",
    "df=pd.DataFrame(uTrue.T, columns=['H','L'])\n",
    "#add all the ensemble cases\n",
    "for m in range(uae.shape[1]):\n",
    "    df[f\"{m+1}H\"]=uae[0,m,:]\n",
    "    df[f\"{m+1}L\"]=uae[1,m,:]\n",
    "#add the mean analysis\n",
    "dfa=pd.DataFrame(ua.T, columns=['aH','aL'])\n",
    "#combine arrays into a single one\n",
    "data1=df.join(dft)\n",
    "data2=data1.join(dfa)\n",
    "#set index of new array to time\n",
    "data=data2.set_index('t')\n",
    "#save data\n",
    "data.to_csv(f\"data_matrix_10_analysis/smbt11950smbtf2300smb00.324smb10.162smbf-0.015sillmin415sillmax425sillslope0.01hnd2.18lnd4.44bx-0.001.csv\")\n",
    "#undergoes same process to save observations into a csv\n",
    "dobst=pd.DataFrame(t[ind_m].T, columns=['t'])\n",
    "dobs=pd.DataFrame(w.T, columns=['H','L'])\n",
    "dataobs1=dobs.join(dobst)\n",
    "dataobs=dataobs1.set_index(\"t\")\n",
    "dataobs.to_csv(f\"data_matrix_10_analysis/obs_smbt11950smbtf2300smb00.324smb10.162smbf-0.015sillmin415sillmax425sillslope0.01hnd2.18lnd4.44bx-0.001.csv\")"
   ]
  },
  {
   "cell_type": "code",
   "execution_count": null,
   "id": "7913d946",
   "metadata": {
    "scrolled": true
   },
   "outputs": [],
   "source": []
  }
 ],
 "metadata": {
  "kernelspec": {
   "display_name": "Python 3 (ipykernel)",
   "language": "python",
   "name": "python3"
  },
  "language_info": {
   "codemirror_mode": {
    "name": "ipython",
    "version": 3
   },
   "file_extension": ".py",
   "mimetype": "text/x-python",
   "name": "python",
   "nbconvert_exporter": "python",
   "pygments_lexer": "ipython3",
   "version": "3.8.10"
  }
 },
 "nbformat": 4,
 "nbformat_minor": 5
}
