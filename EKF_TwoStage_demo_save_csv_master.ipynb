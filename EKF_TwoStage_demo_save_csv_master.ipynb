{
 "cells": [
  {
   "cell_type": "markdown",
   "metadata": {},
   "source": [
    "# Demo of EKF with Two-Stage Model"
   ]
  },
  {
   "cell_type": "code",
   "execution_count": 1,
   "metadata": {},
   "outputs": [],
   "source": [
    "import numpy as np\n",
    "import matplotlib.pyplot as plt\n",
    "import pandas as pd"
   ]
  },
  {
   "cell_type": "markdown",
   "metadata": {},
   "source": [
    "### Two-stage model functions"
   ]
  },
  {
   "cell_type": "markdown",
   "metadata": {},
   "source": [
    "This defines the bed of the Glacier given the paramter of slope, start point and reverse slope."
   ]
  },
  {
   "cell_type": "code",
   "execution_count": 2,
   "metadata": {},
   "outputs": [],
   "source": [
    "def bedtopo(L,*args):  #bed to topography L- length of glacier\n",
    "    b0 = args[0]   #b0: glacier start point\n",
    "    bx = args[1]   #bx: glacier slope\n",
    "    sillmin = args[2]   #start of reverse slope\n",
    "    sillmax = args[3]   #end of reverse slope\n",
    "    sillslope = args[4]   #slope of reverse slope\n",
    "    \n",
    "    if L < sillmin: #if glacier is shorter than reverse slope\n",
    "        b = b0 + bx*L\n",
    "    elif L < sillmax: #if glacier terminates on reverse slope\n",
    "        b = b0 + bx*sillmin + sillslope*(L-sillmin)\n",
    "    else: #if glacier terminates after reverse slope\n",
    "        b = b0 + bx*sillmin + sillslope*(sillmax-sillmin) + bx*(L-sillmax)\n",
    "        \n",
    "    return b"
   ]
  },
  {
   "cell_type": "markdown",
   "metadata": {},
   "source": [
    "This function defines the model of the Glacier we are working with. The differential equations used are defined below in mathematical terms to help bring clarity to the code. "
   ]
  },
  {
   "cell_type": "code",
   "execution_count": 3,
   "metadata": {},
   "outputs": [],
   "source": [
    "def TwoStage_timedep(state,*args): #Robel et al. 2018 two-stage model\n",
    "    \n",
    "    Hnd, Lnd = state #Unpack the state vector, Hnd n-dim thickness\n",
    "    #Lnd n-dim length\n",
    "    f = np.zeros(2) #Derivatives\n",
    "    \n",
    "    smb0 = args[0] #P (precipitation) at time 0\n",
    "    smb1 = args[1] #P (precipitation) at time 1\n",
    "    smbf = args[2] #P (precipitation) at time f\n",
    "    gamma = args[3] #Q coefficient\n",
    "    omega = args[4] #Q_g coefficient\n",
    "    time = args[5]\n",
    "    t1 = args[6]\n",
    "    tfinal = args[7]\n",
    "#    b0 = args[3]\n",
    "#    bx = args[4]\n",
    "#    sillmin = args[5]\n",
    "#    sillmax = args[6]\n",
    "#    sillslope = args[7]\n",
    "\n",
    "    b0 = 0   #glacier start point\n",
    "    bx = args[11]   #glacier slope\n",
    "    sillmin = args[8]*1e3   #reverse slope start point\n",
    "    sillmax = args[9]*1e3   #reverse slope ends point\n",
    "    sillslope = args[10]    #reverse slope slope\n",
    "    \n",
    "    rhow = 1028   #density of water\n",
    "    rhoi = 917   #denisty of ice\n",
    "    n = 3   \n",
    "    beta = 4.75 \n",
    "    Lscale = 100e3   #scale for length, it is on the order of 10E4 or 1E5\n",
    "    Hscale = 1000   #scale for thickness, it is on the order of 10E2 or 1E3\n",
    "    \n",
    "    H = Hnd*Hscale #icethickness\n",
    "    L = Lnd*Lscale #length of glacier\n",
    "    \n",
    "    if time < t1:\n",
    "        smb = smb0 + (smb1-smb0)*time/t1\n",
    "    else:\n",
    "        smb = smb1 + (smbf-smb1)*time/(tfinal-t1) \n",
    "    #see below for write out of the functions in mathematical notation\n",
    "    hg = -(rhow/rhoi)*bedtopo(L,b0,bx,sillmin,sillmax,sillslope)   # #1\n",
    "    Q = gamma * (H**(2*n + 1))/(L**n)   # #2\n",
    "    Qg = omega * (hg**beta)   # #3\n",
    "    \n",
    "    f[0] = (smb - (Qg/L) - (H/(hg*L))*(Q-Qg))/Hscale   # #4\n",
    "    f[1] = (Q-Qg)/hg/Lscale   # #5\n",
    "    return f "
   ]
  },
  {
   "cell_type": "markdown",
   "metadata": {},
   "source": [
    "$\\#1$ $h_g = \\dfrac{\\rho_w}{\\rho_i}b(L)$"
   ]
  },
  {
   "cell_type": "markdown",
   "metadata": {},
   "source": [
    "$\\#2$ $Q=\\gamma \\dfrac{H^{2n+1}}{L^n}$"
   ]
  },
  {
   "cell_type": "markdown",
   "metadata": {},
   "source": [
    "$\\#3$ $Q_g= \\Omega h_g^\\beta$"
   ]
  },
  {
   "cell_type": "markdown",
   "metadata": {},
   "source": [
    "$\\#4$ $\\dfrac{dh}{dt}=P-\\dfrac{Q_g}{L}-\\dfrac{H}{h_gL}(Q-Q_g)$"
   ]
  },
  {
   "cell_type": "markdown",
   "metadata": {},
   "source": [
    "$\\#5$ $\\dfrac{dL}{dt}=\\dfrac{1}{h_g}(Q-Q_g) $ Note: You can factor out scalars of a derivative, that is why it is able to be divide by the scale of L."
   ]
  },
  {
   "cell_type": "markdown",
   "metadata": {},
   "source": [
    "### Time Integrator function"
   ]
  },
  {
   "cell_type": "markdown",
   "metadata": {},
   "source": [
    "This function defines and runs a 4th Order Runge Kutta Method."
   ]
  },
  {
   "cell_type": "code",
   "execution_count": 4,
   "metadata": {},
   "outputs": [],
   "source": [
    "def RK4(rhs,state,dt,*args): #ask for explanation\n",
    "    \n",
    "    k1 = rhs(state,*args)\n",
    "    k2 = rhs(state+k1*dt/2,*args)\n",
    "    k3 = rhs(state+k2*dt/2,*args)\n",
    "    k4 = rhs(state+k3*dt,*args)\n",
    "\n",
    "    new_state = state + (dt/6)*(k1+2*k2+2*k3+k4)\n",
    "    return new_state"
   ]
  },
  {
   "cell_type": "markdown",
   "metadata": {},
   "source": [
    "### EKF functions"
   ]
  },
  {
   "cell_type": "markdown",
   "metadata": {},
   "source": [
    "This function runs the Ensemble Kalman Filter."
   ]
  },
  {
   "cell_type": "code",
   "execution_count": 5,
   "metadata": {},
   "outputs": [],
   "source": [
    "def EnKF(ubi,w,ObsOp,JObsOp,R,B):\n",
    "    \n",
    "    # The analysis step for the (stochastic) ensemble Kalman filter \n",
    "    # with virtual observations\n",
    "\n",
    "    n,N = ubi.shape # n is the state dimension and N is the size of ensemble\n",
    "    m = w.shape[0] # m is the size of measurement vector\n",
    "\n",
    "    # compute the mean of forecast ensemble\n",
    "    ub = np.mean(ubi,1)\n",
    "    # compute Jacobian of observation operator at ub\n",
    "    Dh = JObsOp(w)\n",
    "    # compute Kalman gain\n",
    "    D = Dh@B@Dh.T + R #@ is matrix multiplication\n",
    "    K = B @ Dh.T @ np.linalg.inv(D)\n",
    "        \n",
    "    \n",
    "    wi = np.zeros([m,N])\n",
    "    uai = np.zeros([n,N])\n",
    "    for i in range(N):\n",
    "        # create virtual observations\n",
    "        wi[:,i] = w + np.random.multivariate_normal(np.zeros(m), R)\n",
    "        # compute analysis ensemble\n",
    "        uai[:,i] = ubi[:,i] + K @ (wi[:,i]-ObsOp(ubi[:,i]))\n",
    "        \n",
    "    # compute the mean of analysis ensemble\n",
    "    ua = np.mean(uai,1)    \n",
    "    # compute analysis error covariance matrix\n",
    "    P = (1/(N-1)) * (uai - ua.reshape(-1,1)) @ (uai - ua.reshape(-1,1)).T\n",
    "    return uai, P"
   ]
  },
  {
   "cell_type": "markdown",
   "metadata": {},
   "source": [
    "Defines the observation operators we will be using."
   ]
  },
  {
   "cell_type": "code",
   "execution_count": 6,
   "metadata": {},
   "outputs": [],
   "source": [
    "# Observation operators\n",
    "def h(u):   #identity oberservation operator?\n",
    "    w = u\n",
    "    return w\n",
    "\n",
    "def Dh(u):   #identity operator for matrix of size Dh\n",
    "    n = len(u)\n",
    "    D = np.eye(n)\n",
    "    return D"
   ]
  },
  {
   "cell_type": "markdown",
   "metadata": {},
   "source": [
    "## Set parameters"
   ]
  },
  {
   "cell_type": "markdown",
   "metadata": {},
   "source": [
    "Sets model intialization parameters except for length of glacier, glacier bed parameters and reverse slope parameters."
   ]
  },
  {
   "cell_type": "code",
   "execution_count": 7,
   "metadata": {},
   "outputs": [],
   "source": [
    "#set possible parameter values\n",
    "smb_t1 = [1950]\n",
    "smb_tf = [2300]\n",
    "smb_0d = [0.3]\n",
    "smb_1d = [0.15]\n",
    "smb_fd = [0.0]\n",
    "sillmin_d = [415]\n",
    "sillmax_d = [425]\n",
    "sillslope_d = [0.001]\n",
    "hnd_d = [2.3]\n",
    "lnd_d = [4.6]\n",
    "bx_d = [-0.001]\n",
    "#create array of zeros to store possible values \n",
    "arr=np.zeros((len(smb_t1),len(smb_tf),len(smb_0d),len(smb_1d),\\\n",
    "              len(smb_fd), len(sillmin_d),len(sillmax_d),len(sillslope_d),\\\n",
    "            len(hnd_d),len(lnd_d),len(bx_d)),dtype=list)\n",
    "#series of nested for loops to build lists of parameters into the array\n",
    "for a2 in range(len(smb_t1)):\n",
    "    for a3 in range(len(smb_tf)):\n",
    "        for a4 in range(len(smb_0d)):\n",
    "            for a5 in range(len(smb_1d)):\n",
    "                for a6 in range(len(smb_fd)):\n",
    "                    for a7 in range(len(sillmin_d)):\n",
    "                        for a8 in range(len(sillmax_d)):\n",
    "                            for a9 in range(len(sillslope_d)):\n",
    "                                for a10 in range(len(hnd_d)):\n",
    "                                    for a11 in range(len(lnd_d)):\n",
    "                                        for a12 in range(len(bx_d)):\n",
    "                                            #note that the number of brackets denotes corresponds to\n",
    "                                            #the number of dimensions\n",
    "                                            arr[a2][a3][a4][a5][a6][a7][a8][a9][a10][a11][a12]=\\\n",
    "                                            [smb_t1[a2],smb_tf[a3],smb_0d[a4],smb_1d[a5],smb_fd[a6],\\\n",
    "                                            sillmin_d[a7],sillmax_d[a8],sillslope_d[a9],hnd_d[a10],lnd_d[a11],bx_d[a12]]"
   ]
  },
  {
   "cell_type": "code",
   "execution_count": 8,
   "metadata": {
    "scrolled": false
   },
   "outputs": [],
   "source": [
    "#runs the truth simulation generation for all the cases\n",
    "for a2 in range(len(smb_t1)):\n",
    "    for a3 in range(len(smb_tf)):\n",
    "        for a4 in range(len(smb_0d)):\n",
    "            for a5 in range(len(smb_1d)):\n",
    "                for a6 in range(len(smb_fd)):\n",
    "                    for a7 in range(len(sillmin_d)):\n",
    "                        for a8 in range(len(sillmax_d)):\n",
    "                            for a9 in range(len(sillslope_d)):\n",
    "                                for a10 in range(len(hnd_d)):\n",
    "                                    for a11 in range(len(lnd_d)):\n",
    "                                        for a12 in range(len(bx_d)):\n",
    "                                            var = arr[a2][a3][a4][a5][a6][a7][a8][a9][a10][a11][a12]\n",
    "                                            nd = 2 #degrees of freedom (number of prognositic equations in model)\n",
    "                                            # parameters\n",
    "                                            smb0 = var[2]\n",
    "                                            smb1 = var[3]\n",
    "                                            smbf = var[4]\n",
    "                                            t1 = var[0]\n",
    "                                            gamma = 0.05\n",
    "                                            omega = 8e-8\n",
    "                                            #b0 = 0\n",
    "                                            bx = var[10]\n",
    "                                            #sillmin = 430e3\n",
    "                                            #sillmax = 440e3\n",
    "                                            #sillslope = 0.01\n",
    "                                            sillmin=var[5]\n",
    "                                            sillmax=var[6]\n",
    "                                            sillslope=var[7]\n",
    "\n",
    "                                            dt = 0.25\n",
    "                                            tm = var[1]\n",
    "                                            nt = int(tm/dt)\n",
    "                                            t = np.linspace(0,tm,nt+1)\n",
    "                                            u0True = np.array([var[8],var[9]]) # True initial conditions\n",
    "                                            # first is H, second is L\n",
    "                                            #np.random.seed(seed=1)\n",
    "                                            sig_m_acc= 0.1  # standard deviation for accurate measurement noise\n",
    "                                            sig_m_inacc= 0.07  # standard deviation for inaccurate measurement noise\n",
    "\n",
    "                                            ind_m_inacc = np.linspace(200,1800,9).astype(int) #np.array([1000,1900])\n",
    "                                            ind_m_acc = np.linspace(2001,2020,20).astype(int)\n",
    "                                            ind_m = np.concatenate((ind_m_inacc,ind_m_acc))\n",
    "                                            t_m = t[ind_m]\n",
    "                                            nt_m = np.size(ind_m)\n",
    "                                            sig_m =  np.zeros(nt+1)\n",
    "                                            sig_m[ind_m_inacc] = sig_m_inacc\n",
    "                                            sig_m[ind_m_acc] = sig_m_acc\n",
    "\n",
    "                                            #time integration\n",
    "                                            uTrue = np.zeros([nd,nt+1])\n",
    "                                            uTrue[:,0] = u0True\n",
    "                                            km = 0\n",
    "                                            w = np.zeros([nd,nt_m])\n",
    "                                            for k in range(nt):\n",
    "                                                time = k*dt\n",
    "                                                uTrue[:,k+1] = RK4(TwoStage_timedep,uTrue[:,k],dt,smb0,smb1,smbf,gamma,omega,time,t1,tm,sillmin,sillmax,sillslope,bx)\n",
    "                                                if (km<nt_m) and (k+1==ind_m[km]):\n",
    "                                                    w[:,km] = h(uTrue[:,k+1]) + np.random.normal(0,sig_m[k+1],[nd,])\n",
    "                                                    km = km+1\n",
    "                                            # saves into a csv\n",
    "                                            dft=pd.DataFrame(t.T, columns=['t'])\n",
    "                                            df=pd.DataFrame(uTrue.T, columns=['H','L'])\n",
    "                                            data1=df.join(dft)\n",
    "                                            data=data1.set_index('t')\n",
    "                                            data.to_csv(f\"data_single_cases/truth_simulation/smbt1{str(var[0])}smbtf{var[1]}smb0{str(var[2])}smb1{str(var[3])}smbf{str(var[4])}sillmin{str(var[5])}sillmax{str(var[6])}sillslope{str(var[7])}hnd{str(var[8])}lnd{str(var[9])}bx{str(var[10])}.csv\")"
   ]
  }
 ],
 "metadata": {
  "kernelspec": {
   "display_name": "Python 3 (ipykernel)",
   "language": "python",
   "name": "python3"
  },
  "language_info": {
   "codemirror_mode": {
    "name": "ipython",
    "version": 3
   },
   "file_extension": ".py",
   "mimetype": "text/x-python",
   "name": "python",
   "nbconvert_exporter": "python",
   "pygments_lexer": "ipython3",
   "version": "3.8.10"
  },
  "vscode": {
   "interpreter": {
    "hash": "95d7987af6d225818fa272370bf1498d4d3a2d2b2e8eafb187a2c72de2276827"
   }
  }
 },
 "nbformat": 4,
 "nbformat_minor": 4
}
