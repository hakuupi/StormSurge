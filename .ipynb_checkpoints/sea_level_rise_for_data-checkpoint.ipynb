{
 "cells": [
  {
   "cell_type": "code",
   "execution_count": 1,
   "id": "6e2ef1ca",
   "metadata": {
    "scrolled": true
   },
   "outputs": [],
   "source": [
    "import numpy as np\n",
    "import matplotlib.pyplot as plt\n",
    "import pandas as pd"
   ]
  },
  {
   "cell_type": "code",
   "execution_count": 2,
   "id": "ed03be71",
   "metadata": {
    "scrolled": true
   },
   "outputs": [],
   "source": [
    "def bedtopo(L,*args):  #bed to topography L- length of glacier\n",
    "    b0 = args[0]   #b0: glacier start point\n",
    "    bx = args[1]   #bx: glacier slope\n",
    "    sillmin = args[2]   #start of reverse slope\n",
    "    sillmax = args[3]   #end of reverse slope\n",
    "    sillslope = args[4]   #slope of reverse slope\n",
    "    \n",
    "    if L < sillmin: #if glacier is shorter than reverse slope\n",
    "        b = b0 + bx*L\n",
    "    elif L < sillmax: #if glacier terminates on reverse slope\n",
    "        b = b0 + bx*sillmin + sillslope*(L-sillmin)\n",
    "    else: #if glacier terminates after reverse slope\n",
    "        b = b0 + bx*sillmin + sillslope*(sillmax-sillmin) + bx*(L-sillmax)\n",
    "        \n",
    "    return b"
   ]
  },
  {
   "cell_type": "code",
   "execution_count": null,
   "id": "3bd69e97",
   "metadata": {},
   "outputs": [],
   "source": [
    "pd.read_csv(\"single_case_analysis/\")"
   ]
  },
  {
   "cell_type": "code",
   "execution_count": null,
   "id": "08e25782",
   "metadata": {},
   "outputs": [],
   "source": []
  },
  {
   "cell_type": "code",
   "execution_count": null,
   "id": "88a33c8c",
   "metadata": {},
   "outputs": [],
   "source": [
    "rhow = 1028   #density of water\n",
    "rhoi = 917   #denisty of ice\n",
    "n = 3   \n",
    "beta = 4.75 \n",
    "Lscale = 100e3   #scale for length, it is on the order of 10E4 or 1E5\n",
    "Hscale = 1000   #scale for thickness, it is on the order of 10E2 or 1E3\n",
    "\n",
    "H = Hnd*Hscale #icethickness\n",
    "L = Lnd*Lscale #length of glacier\n",
    "\n",
    "#see below for write out of the functions in mathematical notation\n",
    "hg = -(rhow/rhoi)*bedtopo(L,b0,bx,sillmin,sillmax,sillslope)   # #1\n",
    "Q = gamma * (H**(2*n + 1))/(L**n)   # #2\n",
    "Qg = omega * (hg**beta)   # #3"
   ]
  },
  {
   "cell_type": "code",
   "execution_count": null,
   "id": "ea16c2c5",
   "metadata": {},
   "outputs": [],
   "source": []
  },
  {
   "cell_type": "code",
   "execution_count": null,
   "id": "b0fe3701",
   "metadata": {},
   "outputs": [],
   "source": []
  },
  {
   "cell_type": "code",
   "execution_count": null,
   "id": "d6bcc959",
   "metadata": {},
   "outputs": [],
   "source": []
  },
  {
   "cell_type": "code",
   "execution_count": 16,
   "id": "cfef14e3",
   "metadata": {
    "scrolled": true
   },
   "outputs": [],
   "source": [
    "#creates first and second data frame to save with\n",
    "dft=pd.DataFrame(t.T, columns=['t'])\n",
    "df=pd.DataFrame(uTrue.T, columns=['H','L'])\n",
    "#add all the ensemble cases\n",
    "for m in range(uae.shape[1]):\n",
    "    df[f\"{m+1}H\"]=uae[0,m,:]\n",
    "    df[f\"{m+1}L\"]=uae[1,m,:]\n",
    "#add the mean analysis\n",
    "dfa=pd.DataFrame(ua.T, columns=['aH','aL'])\n",
    "#combine arrays into a single one\n",
    "data1=df.join(dft)\n",
    "data2=data1.join(dfa)\n",
    "#set index of new array to time\n",
    "data=data2.set_index('t')\n",
    "#save data\n",
    "data.to_csv(f\"data_single_cases_analysis/projections/smbt11950smbtf2300smb00.3smb10.15smbf0.0sillmin415sillmax425sillslope0.01hnd2.18lnd4.44bx-0.001.csv\")\n",
    "#undergoes same process to save observations into a csv\n",
    "dobst=pd.DataFrame(t[ind_m].T, columns=['t'])\n",
    "dobs=pd.DataFrame(w.T, columns=['H','L'])\n",
    "dataobs1=dobs.join(dobst)\n",
    "dataobs=dataobs1.set_index(\"t\")\n",
    "dataobs.to_csv(f\"data_single_cases_analysis/projections/obs_smbt11950smbtf2300smb00.3smb10.15smbf0.0sillmin415sillmax425sillslope0.01hnd2.18lnd4.44bx-0.001.csv\")"
   ]
  },
  {
   "cell_type": "code",
   "execution_count": null,
   "id": "46950733",
   "metadata": {},
   "outputs": [],
   "source": []
  }
 ],
 "metadata": {
  "kernelspec": {
   "display_name": "Python 3 (ipykernel)",
   "language": "python",
   "name": "python3"
  },
  "language_info": {
   "codemirror_mode": {
    "name": "ipython",
    "version": 3
   },
   "file_extension": ".py",
   "mimetype": "text/x-python",
   "name": "python",
   "nbconvert_exporter": "python",
   "pygments_lexer": "ipython3",
   "version": "3.8.10"
  }
 },
 "nbformat": 4,
 "nbformat_minor": 5
}
