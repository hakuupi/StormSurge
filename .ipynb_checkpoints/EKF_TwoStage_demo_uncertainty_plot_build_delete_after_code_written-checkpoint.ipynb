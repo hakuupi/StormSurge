{
 "cells": [
  {
   "cell_type": "markdown",
   "metadata": {},
   "source": [
    "# Demo of EKF with Two-Stage Model"
   ]
  },
  {
   "cell_type": "code",
   "execution_count": 1,
   "metadata": {},
   "outputs": [],
   "source": [
    "import numpy as np\n",
    "import matplotlib.pyplot as plt"
   ]
  },
  {
   "cell_type": "markdown",
   "metadata": {},
   "source": [
    "### Two-stage model functions"
   ]
  },
  {
   "cell_type": "code",
   "execution_count": 2,
   "metadata": {},
   "outputs": [],
   "source": [
    "def bedtopo(L,*args):\n",
    "    b0 = args[0]\n",
    "    bx = args[1]\n",
    "    sillmin = args[2]\n",
    "    sillmax = args[3]\n",
    "    sillslope = args[4]\n",
    "    \n",
    "    if L < sillmin:\n",
    "        b = b0 + bx*L\n",
    "    elif L < sillmax:\n",
    "        b = b0 + bx*sillmin + sillslope*(L-sillmin)\n",
    "    else:\n",
    "        b = b0 + bx*sillmin + sillslope*(sillmax-sillmin) + bx*(L-sillmax)\n",
    "        \n",
    "    return b"
   ]
  },
  {
   "cell_type": "code",
   "execution_count": 3,
   "metadata": {},
   "outputs": [],
   "source": [
    "def TwoStage_timedep(state,*args): #Robel et al. 2018 two-stage model\n",
    "    \n",
    "    Hnd, Lnd = state #Unpack the state vector\n",
    "    f = np.zeros(2) #Derivatives\n",
    "    \n",
    "    smb0 = args[0]\n",
    "    smb1 = args[1]\n",
    "    smbf = args[2]\n",
    "    gamma = args[3]\n",
    "    omega = args[4]\n",
    "    time = args[5]\n",
    "    t1 = args[6]\n",
    "    tfinal = args[7]\n",
    "#    b0 = args[3]\n",
    "#    bx = args[4]\n",
    "#    sillmin = args[5]\n",
    "#    sillmax = args[6]\n",
    "#    sillslope = args[7]\n",
    "\n",
    "    b0 = 0\n",
    "    bx = -0.001\n",
    "    sillmin = 415e3\n",
    "    sillmax = 425e3\n",
    "    sillslope = 0.01\n",
    "    \n",
    "    rhow = 1028\n",
    "    rhoi = 917\n",
    "    n = 3\n",
    "    beta = 3.75\n",
    "    Lscale = 100e3\n",
    "    Hscale = 1000\n",
    "    \n",
    "    H = Hnd*Hscale\n",
    "    L = Lnd*Lscale\n",
    "    \n",
    "    if time < t1:\n",
    "        smb = smb0 + (smb1-smb0)*time/t1\n",
    "    else:\n",
    "        smb = smb1 + (smbf-smb1)*time/(tfinal-t1) \n",
    "    \n",
    "    hg = -(rhow/rhoi)*bedtopo(L,b0,bx,sillmin,sillmax,sillslope)\n",
    "    Q = gamma * (H**(2*n + 1))/(L**n)\n",
    "    Qg = omega * (hg**beta)\n",
    "    \n",
    "    f[0] = (smb - (Qg/L) - (H/(hg*L))*(Q-Qg))/Hscale\n",
    "    f[1] = (Q-Qg)/hg/Lscale\n",
    "    return f "
   ]
  },
  {
   "cell_type": "markdown",
   "metadata": {},
   "source": [
    "### Time Integrator function"
   ]
  },
  {
   "cell_type": "code",
   "execution_count": 4,
   "metadata": {},
   "outputs": [],
   "source": [
    "def RK4(rhs,state,dt,*args):\n",
    "    \n",
    "    k1 = rhs(state,*args)\n",
    "    k2 = rhs(state+k1*dt/2,*args)\n",
    "    k3 = rhs(state+k2*dt/2,*args)\n",
    "    k4 = rhs(state+k3*dt,*args)\n",
    "\n",
    "    new_state = state + (dt/6)*(k1+2*k2+2*k3+k4)\n",
    "    return new_state"
   ]
  },
  {
   "cell_type": "markdown",
   "metadata": {},
   "source": [
    "### EKF functions"
   ]
  },
  {
   "cell_type": "code",
   "execution_count": 16,
   "metadata": {},
   "outputs": [],
   "source": [
    "def EnKF(ubi,w,ObsOp,JObsOp,R,B):\n",
    "    \n",
    "    # The analysis step for the (stochastic) ensemble Kalman filter \n",
    "    # with virtual observations\n",
    "\n",
    "    n,N = ubi.shape # n is the state dimension and N is the size of ensemble\n",
    "    m = w.shape[0] # m is the size of measurement vector\n",
    "\n",
    "    # compute the mean of forecast ensemble\n",
    "    ub = np.mean(ubi,1)    \n",
    "    # compute Jacobian of observation operator at ub\n",
    "    Dh = JObsOp(w)\n",
    "    # compute Kalman gain\n",
    "    D = Dh@B@Dh.T + R\n",
    "    K = B @ Dh.T @ np.linalg.inv(D)\n",
    "    Q=np.cov(ubi)\n",
    "    ubi=ubi+np.random.multivariate_normal(np.zeros(n),Q,size=N).T   \n",
    "    \n",
    "    wi = np.zeros([m,N])\n",
    "    uai = np.zeros([n,N])\n",
    "    for i in range(N):\n",
    "        # create virtual observations\n",
    "        wi[:,i] = w + np.random.multivariate_normal(np.zeros(m), R)\n",
    "        # compute analysis ensemble\n",
    "        uai[:,i] = ubi[:,i] + K @ (wi[:,i]-ObsOp(ubi[:,i]))\n",
    "        \n",
    "    # compute the mean of analysis ensemble\n",
    "    ua = np.mean(uai,1)    \n",
    "    # compute analysis error covariance matrix\n",
    "    P = (1/(N-1)) * (uai - ua.reshape(-1,1)) @ (uai - ua.reshape(-1,1)).T\n",
    "    #not sure if I'll keep this in but might as well\n",
    "    k = P.shape[0]\n",
    "    ve = np.linalg.det(P)**(1/k)\n",
    "    #ve=np.sum(np.absolute(P))\n",
    "    return uai, P, ve"
   ]
  },
  {
   "cell_type": "code",
   "execution_count": 6,
   "metadata": {},
   "outputs": [],
   "source": [
    "# Observation operators\n",
    "def h(u):\n",
    "    w = u\n",
    "    return w\n",
    "\n",
    "def Dh(u):\n",
    "    n = len(u)\n",
    "    D = np.eye(n)\n",
    "    return D"
   ]
  },
  {
   "cell_type": "markdown",
   "metadata": {},
   "source": [
    "## Set parameters"
   ]
  },
  {
   "cell_type": "code",
   "execution_count": 7,
   "metadata": {},
   "outputs": [],
   "source": [
    "nd = 2 #degrees of freedom (number of prognositic equations in model)\n",
    "# parameters\n",
    "smb0 = 0.3\n",
    "smb1 = 0.15\n",
    "smbf = 0.0\n",
    "t1 = 1950\n",
    "gamma = 0.05\n",
    "omega = 8e-8\n",
    "#b0 = 0\n",
    "#bx = -0.001\n",
    "#sillmin = 430e3\n",
    "#sillmax = 440e3\n",
    "#sillslope = 0.01\n",
    "\n",
    "dt = 1\n",
    "tm = 2300\n",
    "nt = int(tm/dt)\n",
    "t = np.linspace(0,tm,nt+1)"
   ]
  },
  {
   "cell_type": "markdown",
   "metadata": {},
   "source": [
    "## Generating synthetic \"truth\" simulation"
   ]
  },
  {
   "cell_type": "code",
   "execution_count": 8,
   "metadata": {},
   "outputs": [
    {
     "data": {
      "image/png": "[encoded data removed]",
      "text/plain": [
       "<Figure size 720x576 with 2 Axes>"
      ]
     },
     "metadata": {
      "needs_background": "light"
     },
     "output_type": "display_data"
    }
   ],
   "source": [
    "u0True = np.array([2.18,4.44]) # True initial conditions\n",
    "#np.random.seed(seed=1)\n",
    "sig_m_acc= 0.1  # standard deviation for accurate measurement noise\n",
    "sig_m_inacc= 0.07  # standard deviation for inaccurate measurement noise\n",
    "\n",
    "ind_m_inacc = np.linspace(200,1800,9).astype(int) #np.array([1000,1900])\n",
    "ind_m_acc = np.linspace(2001,2020,20).astype(int)\n",
    "ind_m = np.concatenate((ind_m_inacc,ind_m_acc))\n",
    "t_m = t[ind_m]\n",
    "nt_m = np.size(ind_m)\n",
    "sig_m =  np.zeros(nt+1)\n",
    "sig_m[ind_m_inacc] = sig_m_inacc\n",
    "sig_m[ind_m_acc] = sig_m_acc\n",
    "\n",
    "#time integration\n",
    "uTrue = np.zeros([nd,nt+1])\n",
    "uTrue[:,0] = u0True\n",
    "km = 0\n",
    "w = np.zeros([nd,nt_m])\n",
    "for k in range(nt):\n",
    "    time = k*dt\n",
    "    uTrue[:,k+1] = RK4(TwoStage_timedep,uTrue[:,k],dt,smb0,smb1,smbf,gamma,omega,time,t1,tm)\n",
    "    if (km<nt_m) and (k+1==ind_m[km]):\n",
    "        w[:,km] = h(uTrue[:,k+1]) + np.random.normal(0,sig_m[k+1],[nd,])\n",
    "        km = km+1\n",
    "        \n",
    "fig, ax = plt.subplots(nrows=nd,ncols=1, figsize=(10,8))\n",
    "ax = ax.flat\n",
    "for k in range(nd):\n",
    "    ax[k].plot(t,uTrue[k,:], label='True', linewidth = 3, color=\"black\")\n",
    "    ax[k].set_xlabel('t',fontsize=22)\n",
    "\n",
    "ax[0].set_ylabel('H(t)', labelpad=5)\n",
    "ax[1].set_ylabel('L(t)', labelpad=-12)\n",
    "fig.subplots_adjust(hspace=0.5)"
   ]
  },
  {
   "cell_type": "code",
   "execution_count": 9,
   "metadata": {},
   "outputs": [],
   "source": [
    "#save all \"obs\"\n",
    "ind_m_all = ind_m\n",
    "nt_m_all = nt_m\n",
    "w_all = w\n",
    "t_m_all = t_m\n",
    "sig_m_all = sig_m"
   ]
  },
  {
   "cell_type": "markdown",
   "metadata": {},
   "source": [
    "## Assimilation run: snapshot modern obs"
   ]
  },
  {
   "cell_type": "code",
   "execution_count": 10,
   "metadata": {},
   "outputs": [
    {
     "data": {
      "image/png": "[encoded data removed]",
      "text/plain": [
       "<Figure size 720x576 with 2 Axes>"
      ]
     },
     "metadata": {
      "needs_background": "light"
     },
     "output_type": "display_data"
    }
   ],
   "source": [
    "u0Snap = w_all[:,9] # wrong initial conditions\n",
    "omega = 1.1*8e-8 #\"wrong\" parameter\n",
    "#np.random.seed(seed=1)\n",
    "sig_m_acc= 0.05  # standard deviation for accurate measurement noise\n",
    "sig_m_inacc= 0.1  # standard deviation for accurate measurement noise\n",
    "\n",
    "#time integration\n",
    "ntsnap=300\n",
    "tsnap = np.linspace(2000,2300,ntsnap+1)\n",
    "\n",
    "uSnap = np.zeros([nd,ntsnap+1])\n",
    "uSnap[:,0] = u0Snap\n",
    "\n",
    "for k in range(ntsnap):\n",
    "    time = tsnap[k]\n",
    "    uSnap[:,k+1] = RK4(TwoStage_timedep,uSnap[:,k],dt,smb0,smb1,smbf,gamma,omega,time,t1,tm)\n",
    "        \n",
    "fig, ax = plt.subplots(nrows=nd,ncols=1, figsize=(10,8))\n",
    "ax = ax.flat\n",
    "for k in range(nd):\n",
    "    ax[k].plot(t,uTrue[k,:], label='True', linewidth = 3, color=\"black\")\n",
    "    ax[k].plot(tsnap,uSnap[k,:], label='Snapshot', linewidth = 3)\n",
    "    ax[k].plot(tsnap[0],uSnap[k,0], 'o', fillstyle='none', label='Observations', markersize = 8, markeredgewidth = 2, color = 'g')\n",
    "    \n",
    "    ax[k].set_xlabel('t',fontsize=22)\n",
    "\n",
    "ax[0].set_ylabel('H(t)', labelpad=5)\n",
    "ax[1].set_ylabel('L(t)', labelpad=-12)\n",
    "fig.subplots_adjust(hspace=0.5) "
   ]
  },
  {
   "cell_type": "markdown",
   "metadata": {},
   "source": [
    "## Assimilation run: many modern obs"
   ]
  },
  {
   "cell_type": "markdown",
   "metadata": {},
   "source": [
    "### Set params an \"wrong\" initial conditions and parameters"
   ]
  },
  {
   "cell_type": "code",
   "execution_count": 11,
   "metadata": {},
   "outputs": [],
   "source": [
    "u0b = np.array([2.3,4.7]) #\"wrong\" initial conditions (initial condition of simulation)\n",
    "#omega = 0.9*8e-8 #\"wrong\" parameter\n",
    "smb0 = 0.3\n",
    "smb1 = 0.2\n",
    "\n",
    "sig_b= 0.1\n",
    "B = sig_b**2*np.eye(nd) #placeholder until first filter update\n",
    "Q = 0.0*np.eye(nd)\n",
    "\n",
    "#time integration\n",
    "ub = np.zeros([nd,nt+1])\n",
    "ub[:,0] = u0b\n",
    "ua = np.zeros([nd,nt+1])\n",
    "ua[:,0] = u0b\n",
    "\n",
    "n = nd #state dimension\n",
    "m = nd #measurement dimension\n",
    "\n",
    "# ensemble size \n",
    "N = 10\n",
    "#initialize ensemble\n",
    "uai = np.zeros([nd,N])\n",
    "uae = np.zeros([nd,N,nt+1])\n",
    "for i in range(N):\n",
    "    uai[:,i] = u0b + np.random.multivariate_normal(np.zeros(n), B)\n",
    "    \n",
    "## which obs to assimilate\n",
    "obsub = range(9,nt_m_all)\n",
    "w = w_all[:,obsub]\n",
    "ind_m = ind_m_all[obsub]\n",
    "nt_m = np.size(ind_m)\n",
    "t_m = t_m_all[obsub]\n",
    "sig_m =  np.zeros(nt+1)\n",
    "sig_m[ind_m_acc] = sig_m_acc"
   ]
  },
  {
   "cell_type": "markdown",
   "metadata": {},
   "source": [
    "### Run ensemble with assimilation"
   ]
  },
  {
   "cell_type": "code",
   "execution_count": 12,
   "metadata": {},
   "outputs": [
    {
     "ename": "ValueError",
     "evalue": "too many values to unpack (expected 2)",
     "output_type": "error",
     "traceback": [
      "\u001b[0;31m---------------------------------------------------------------------------\u001b[0m",
      "\u001b[0;31mValueError\u001b[0m                                Traceback (most recent call last)",
      "\u001b[0;32m/var/folders/n0/rsxpkn6j2xv8hrpk19m6_r6m0000gn/T/ipykernel_9161/2295531572.py\u001b[0m in \u001b[0;36m<module>\u001b[0;34m\u001b[0m\n\u001b[1;32m     19\u001b[0m \u001b[0;34m\u001b[0m\u001b[0m\n\u001b[1;32m     20\u001b[0m         \u001b[0;31m# Analysis Step\u001b[0m\u001b[0;34m\u001b[0m\u001b[0;34m\u001b[0m\u001b[0;34m\u001b[0m\u001b[0m\n\u001b[0;32m---> 21\u001b[0;31m         \u001b[0muai\u001b[0m\u001b[0;34m,\u001b[0m\u001b[0mB\u001b[0m \u001b[0;34m=\u001b[0m \u001b[0mEnKF\u001b[0m\u001b[0;34m(\u001b[0m\u001b[0muai\u001b[0m\u001b[0;34m,\u001b[0m\u001b[0mw\u001b[0m\u001b[0;34m[\u001b[0m\u001b[0;34m:\u001b[0m\u001b[0;34m,\u001b[0m\u001b[0mkm\u001b[0m\u001b[0;34m]\u001b[0m\u001b[0;34m,\u001b[0m\u001b[0mh\u001b[0m\u001b[0;34m,\u001b[0m\u001b[0mDh\u001b[0m\u001b[0;34m,\u001b[0m\u001b[0mR\u001b[0m\u001b[0;34m,\u001b[0m\u001b[0mB\u001b[0m\u001b[0;34m)\u001b[0m\u001b[0;34m\u001b[0m\u001b[0;34m\u001b[0m\u001b[0m\n\u001b[0m\u001b[1;32m     22\u001b[0m         \u001b[0;31m# compute the mean of analysis ensemble\u001b[0m\u001b[0;34m\u001b[0m\u001b[0;34m\u001b[0m\u001b[0;34m\u001b[0m\u001b[0m\n\u001b[1;32m     23\u001b[0m         \u001b[0mua\u001b[0m\u001b[0;34m[\u001b[0m\u001b[0;34m:\u001b[0m\u001b[0;34m,\u001b[0m\u001b[0mk\u001b[0m\u001b[0;34m+\u001b[0m\u001b[0;36m1\u001b[0m\u001b[0;34m]\u001b[0m \u001b[0;34m=\u001b[0m \u001b[0mnp\u001b[0m\u001b[0;34m.\u001b[0m\u001b[0mmean\u001b[0m\u001b[0;34m(\u001b[0m\u001b[0muai\u001b[0m\u001b[0;34m,\u001b[0m\u001b[0;36m1\u001b[0m\u001b[0;34m)\u001b[0m\u001b[0;34m\u001b[0m\u001b[0;34m\u001b[0m\u001b[0m\n",
      "\u001b[0;31mValueError\u001b[0m: too many values to unpack (expected 2)"
     ]
    }
   ],
   "source": [
    "km = 0\n",
    "for k in range(nt):\n",
    "    time = k*dt\n",
    "    # Forecast Step\n",
    "    #background trajectory [without correction]\n",
    "    ub[:,k+1] = RK4(TwoStage_timedep,ub[:,k],dt,smb0,smb1,smbf,gamma,omega,time,t1,tm)\n",
    "    #EnKF trajectory [with correction at observation times]\n",
    "    for i in range(N): # forecast ensemble\n",
    "        uai[:,i] = RK4(TwoStage_timedep,uai[:,i],dt,smb0,smb1,smbf,gamma,omega,time,t1,tm)\n",
    "        uae[:,i,k+1] = uai[:,i]\n",
    "\n",
    "    # compute the mean of forecast ensemble\n",
    "    ua[:,k+1] = np.mean(uai,1)\n",
    "    # compute forecast error covariance matrix\n",
    "    B = (1/(N-1)) * (uai - ua[:,k+1].reshape(-1,1)) @ (uai - ua[:,k+1].reshape(-1,1)).T\n",
    "\n",
    "    if (km<nt_m) and (k+1==ind_m[km]):\n",
    "        R = sig_m[k+1]**2*np.eye(nd) #covariance matrix for measurement noise\n",
    "\n",
    "        # Analysis Step\n",
    "        uai,B = EnKF(uai,w[:,km],h,Dh,R,B)\n",
    "        # compute the mean of analysis ensemble\n",
    "        ua[:,k+1] = np.mean(uai,1) \n",
    "        km = km+1"
   ]
  },
  {
   "cell_type": "markdown",
   "metadata": {},
   "source": [
    "### Plot"
   ]
  },
  {
   "cell_type": "code",
   "execution_count": null,
   "metadata": {
    "scrolled": false
   },
   "outputs": [],
   "source": [
    "fig, ax = plt.subplots(nrows=nd,ncols=1, figsize=(10,8))\n",
    "ax = ax.flat\n",
    "\n",
    "for k in range(nd):\n",
    "    ax[k].plot(t,uTrue[k,:], label='Truth (hidden)', linewidth = 4)\n",
    "    #ax[k].plot(t,ub[k,:], ':', label='Background', linewidth = 3)\n",
    "    ax[k].plot(t[ind_m],w[k,:], 'o', fillstyle='none', \\\n",
    "               label='Observations', markersize = 8, markeredgewidth = 2, color = 'g')\n",
    "    ax[k].set_xlabel('t',fontsize=22)\n",
    "    #ax[k].axvspan(0, tm_m, color='y', alpha=0.4, lw=0)\n",
    "    for j in range(N):\n",
    "        ax[k].plot(t[1:],uae[k,j,1:], '-', linewidth = 1, color='r')\n",
    "    ax[k].plot(t,ua[k,:], '-', label='Analysis', linewidth = 4, color = 'k')\n",
    "\n",
    "ax[0].legend(loc=\"center\", bbox_to_anchor=(0.5,1.25),ncol =4,fontsize=15)\n",
    "\n",
    "ax[0].set_ylabel('H(t)', labelpad=5)\n",
    "ax[1].set_ylabel('L(t)', labelpad=-12)\n",
    "#ax[2].set_ylabel('z(t)')\n",
    "fig.subplots_adjust(hspace=0.5)\n",
    "\n",
    "w_modern = w\n",
    "uae_modern = uae\n",
    "ua_modern = ua\n",
    "t_modern = t\n",
    "ind_m_modern = ind_m"
   ]
  },
  {
   "cell_type": "markdown",
   "metadata": {},
   "source": [
    "## Assimilation run: many modern obs + paleo"
   ]
  },
  {
   "cell_type": "markdown",
   "metadata": {},
   "source": [
    "### Set params an \"wrong\" initial conditions and parameters"
   ]
  },
  {
   "cell_type": "code",
   "execution_count": 17,
   "metadata": {},
   "outputs": [],
   "source": [
    "u0b = np.array([2.3,4.7]) #\"wrong\" initial conditions (initial condition of simulation)\n",
    "#omega = 0.9*8e-8 #\"wrong\" parameter\n",
    "smb0 = 0.3\n",
    "smb1 = 0.2\n",
    "\n",
    "sig_b= 0.1\n",
    "B = sig_b**2*np.eye(nd) #placeholder until first filter update\n",
    "Q = 0.0*np.eye(nd)\n",
    "\n",
    "#time integration\n",
    "ub = np.zeros([nd,nt+1])\n",
    "ub[:,0] = u0b\n",
    "ua = np.zeros([nd,nt+1])\n",
    "ua[:,0] = u0b\n",
    "p = np.zeros(nt)\n",
    "\n",
    "n = nd #state dimension\n",
    "m = nd #measurement dimension\n",
    "\n",
    "# ensemble size \n",
    "N = 10\n",
    "#initialize ensemble\n",
    "uai = np.zeros([nd,N])\n",
    "uae = np.zeros([nd,N,nt+1])\n",
    "for i in range(N):\n",
    "    uai[:,i] = u0b + np.random.multivariate_normal(np.zeros(n), B)\n",
    "    \n",
    "## which obs to assimilate\n",
    "w = w_all\n",
    "ind_m = ind_m_all\n",
    "nt_m = nt_m_all\n",
    "t_m = t_m_all\n",
    "sig_m =  sig_m_all"
   ]
  },
  {
   "cell_type": "markdown",
   "metadata": {},
   "source": [
    "### Run ensemble with assimilation"
   ]
  },
  {
   "cell_type": "code",
   "execution_count": 18,
   "metadata": {},
   "outputs": [],
   "source": [
    "km = 0\n",
    "for k in range(nt):\n",
    "    time = k*dt\n",
    "    # Forecast Step\n",
    "    #background trajectory [without correction]\n",
    "    ub[:,k+1] = RK4(TwoStage_timedep,ub[:,k],dt,smb0,smb1,smbf,gamma,omega,time,t1,tm)\n",
    "    #EnKF trajectory [with correction at observation times]\n",
    "    for i in range(N): # forecast ensemble\n",
    "        uai[:,i] = RK4(TwoStage_timedep,uai[:,i],dt,smb0,smb1,smbf,gamma,omega,time,t1,tm)\n",
    "        uae[:,i,k+1] = uai[:,i]\n",
    "\n",
    "    # compute the mean of forecast ensemble\n",
    "    ua[:,k+1] = np.mean(uai,1)\n",
    "    # compute forecast error covariance matrix\n",
    "    B = (1/(N-1)) * (uai - ua[:,k+1].reshape(-1,1)) @ (uai - ua[:,k+1].reshape(-1,1)).T\n",
    "    if (km<nt_m) and (k+1==ind_m[km]):\n",
    "        R = sig_m[k+1]**2*np.eye(nd) #covariance matrix for measurement noise\n",
    "\n",
    "        # Analysis Step\n",
    "        uai,B,ve = EnKF(uai,w[:,km],h,Dh,R,B)\n",
    "        p[k]=ve\n",
    "        # compute the mean of analysis ensemble\n",
    "        ua[:,k+1] = np.mean(uai,1) \n",
    "        km = km+1"
   ]
  },
  {
   "cell_type": "code",
   "execution_count": 19,
   "metadata": {},
   "outputs": [
    {
     "data": {
      "text/plain": [
       "<matplotlib.collections.PathCollection at 0x7fadf8f84bb0>"
      ]
     },
     "execution_count": 19,
     "metadata": {},
     "output_type": "execute_result"
    },
    {
     "data": {
      "image/png": "[encoded data removed]",
      "text/plain": [
       "<Figure size 432x288 with 1 Axes>"
      ]
     },
     "metadata": {
      "needs_background": "light"
     },
     "output_type": "display_data"
    }
   ],
   "source": [
    "plt.scatter(t[1:],p)"
   ]
  },
  {
   "cell_type": "markdown",
   "metadata": {},
   "source": [
    "### Plot"
   ]
  },
  {
   "cell_type": "code",
   "execution_count": null,
   "metadata": {
    "scrolled": true
   },
   "outputs": [],
   "source": [
    "fig, ax = plt.subplots(nrows=nd,ncols=1, figsize=(10,8))\n",
    "ax = ax.flat\n",
    "\n",
    "for k in range(nd):\n",
    "    ax[k].plot(t,uTrue[k,:], label='Truth (hidden)', linewidth = 4)\n",
    "    #ax[k].plot(t,ub[k,:], ':', label='Background', linewidth = 3)\n",
    "    ax[k].plot(t[ind_m],w[k,:], 'o', fillstyle='none', \\\n",
    "               label='Observations', markersize = 8, markeredgewidth = 2, color = 'g')\n",
    "    ax[k].set_xlabel('t',fontsize=22)\n",
    "    #ax[k].axvspan(0, tm_m, color='y', alpha=0.4, lw=0)\n",
    "    for j in range(N):\n",
    "        ax[k].plot(t[1:],uae[k,j,1:], '-', linewidth = 1, color='r')\n",
    "    ax[k].plot(t,ua[k,:], '-', label='Analysis', linewidth = 4, color = 'k')\n",
    "\n",
    "ax[0].legend(loc=\"center\", bbox_to_anchor=(0.5,1.25),ncol =4,fontsize=15)\n",
    "\n",
    "ax[0].set_ylabel('H(t)', labelpad=5)\n",
    "ax[1].set_ylabel('L(t)', labelpad=-12)\n",
    "#ax[2].set_ylabel('z(t)')\n",
    "fig.subplots_adjust(hspace=0.5)\n",
    "\n",
    "w_all = w\n",
    "uae_all = uae\n",
    "ua_all = ua\n",
    "t_all = t"
   ]
  },
  {
   "cell_type": "markdown",
   "metadata": {},
   "source": [
    "## Assimilation run: many modern obs + paleo + parameter estimation"
   ]
  },
  {
   "cell_type": "markdown",
   "metadata": {},
   "source": [
    "### Set params and \"wrong\" initial conditions and parameters"
   ]
  },
  {
   "cell_type": "code",
   "execution_count": null,
   "metadata": {},
   "outputs": [],
   "source": [
    "def TwoStage_timedep_withparam(state,*args): #Robel et al. 2018 two-stage model\n",
    "    \n",
    "    Hnd, Lnd, Ond = state #Unpack the state vector\n",
    "    f = np.zeros(3) #Derivatives\n",
    "    \n",
    "    smb0 = args[0]\n",
    "    smb1 = args[1]\n",
    "    smbf = args[2]\n",
    "    gamma = args[3]\n",
    "    #omega = args[4]\n",
    "    time = args[4]\n",
    "    t1 = args[5]\n",
    "    tfinal = args[6]\n",
    "#    b0 = args[3]\n",
    "#    bx = args[4]\n",
    "#    sillmin = args[5]\n",
    "#    sillmax = args[6]\n",
    "#    sillslope = args[7]\n",
    "\n",
    "    b0 = 0\n",
    "    bx = -0.001\n",
    "    sillmin = 415e3\n",
    "    sillmax = 425e3\n",
    "    sillslope = 0.01\n",
    "    \n",
    "    rhow = 1028\n",
    "    rhoi = 917\n",
    "    n = 3\n",
    "    beta = 4.75\n",
    "    Lscale = 100e3\n",
    "    Hscale = 1000\n",
    "    Oscale = 10e-8\n",
    "    \n",
    "    H = Hnd*Hscale\n",
    "    L = Lnd*Lscale\n",
    "    omega = Ond*Oscale\n",
    "    \n",
    "    if time < t1:\n",
    "        smb = smb0 + (smb1-smb0)*time/t1\n",
    "    else:\n",
    "        smb = smb1 + (smbf-smb1)*time/(tfinal-t1) \n",
    "    \n",
    "    hg = -(rhow/rhoi)*bedtopo(L,b0,bx,sillmin,sillmax,sillslope)\n",
    "    Q = gamma * (H**(2*n + 1))/(L**n)\n",
    "    Qg = omega * (hg**beta)\n",
    "    \n",
    "    f[0] = (smb - (Qg/L) - (H/(hg*L))*(Q-Qg))/Hscale\n",
    "    f[1] = (Q-Qg)/hg/Lscale\n",
    "    f[2] = 0\n",
    "    return f "
   ]
  },
  {
   "cell_type": "code",
   "execution_count": null,
   "metadata": {},
   "outputs": [],
   "source": [
    "# Observation operators\n",
    "def h(u):\n",
    "    w = u[0:2]\n",
    "    return w\n",
    "\n",
    "def Dh(u):\n",
    "    n = len(u)\n",
    "    D = np.hstack((np.eye(n),np.zeros((n,1))))\n",
    "    return D"
   ]
  },
  {
   "cell_type": "code",
   "execution_count": null,
   "metadata": {},
   "outputs": [],
   "source": [
    "u0b = np.array([2.25,4.6,omega/10e-8]) #\"wrong\" initial conditions (initial condition of simulation)\n",
    "nd=3;\n",
    "#omega = 0.9*8e-8 #\"wrong\" parameter\n",
    "smb0 = 0.3\n",
    "smb1 = 0.2\n",
    "smbf=0.0\n",
    "\n",
    "sig_b= 0.1\n",
    "B = sig_b**2*np.eye(nd) #placeholder until first filter update\n",
    "Q = 0.0*np.eye(nd)\n",
    "\n",
    "#time integration\n",
    "ub = np.zeros([nd,nt+1])\n",
    "ub[:,0] = u0b\n",
    "ua = np.zeros([nd,nt+1])\n",
    "ua[:,0] = u0b\n",
    "\n",
    "n = nd #state dimension\n",
    "m = 2 #measurement dimension\n",
    "\n",
    "# ensemble size \n",
    "N = 10\n",
    "#initialize ensemble\n",
    "uai = np.zeros([nd,N])\n",
    "uae = np.zeros([nd,N,nt+1])\n",
    "for i in range(N):\n",
    "    uai[:,i] = u0b + np.random.multivariate_normal(np.zeros(n), B)\n",
    "    \n",
    "## which obs to assimilate\n",
    "w = w_all\n",
    "ind_m = ind_m_all\n",
    "nt_m = nt_m_all\n",
    "t_m = t_m_all\n",
    "sig_m =  sig_m_all"
   ]
  },
  {
   "cell_type": "markdown",
   "metadata": {},
   "source": [
    "### Run ensemble with assimilation"
   ]
  },
  {
   "cell_type": "code",
   "execution_count": null,
   "metadata": {},
   "outputs": [],
   "source": [
    "km = 0\n",
    "for k in range(nt):\n",
    "    time = k*dt\n",
    "    # Forecast Step\n",
    "    #background trajectory [without correction]\n",
    "    ub[:,k+1] = RK4(TwoStage_timedep_withparam,ub[:,k],dt,smb0,smb1,smbf,gamma,time,t1,tm)\n",
    "    #EnKF trajectory [with correction at observation times]\n",
    "    for i in range(N): # forecast ensemble\n",
    "        uai[:,i] = RK4(TwoStage_timedep_withparam,uai[:,i],dt,smb0,smb1,smbf,gamma,time,t1,tm)\n",
    "        uae[:,i,k+1] = uai[:,i]\n",
    "\n",
    "    # compute the mean of forecast ensemble\n",
    "    ua[:,k+1] = np.mean(uai,1)\n",
    "    # compute forecast error covariance matrix\n",
    "    B = (1/(N-1)) * (uai - ua[:,k+1].reshape(-1,1)) @ (uai - ua[:,k+1].reshape(-1,1)).T\n",
    "\n",
    "    if (km<nt_m) and (k+1==ind_m[km]):\n",
    "        R = sig_m[k+1]**2*np.eye(m) #covariance matrix for measurement noise\n",
    "\n",
    "        # Analysis Step\n",
    "        uai,B = EnKF(uai,w[:,km],h,Dh,R,B)\n",
    "        # compute the mean of analysis ensemble\n",
    "        ua[:,k+1] = np.mean(uai,1) \n",
    "        km = km+1"
   ]
  },
  {
   "cell_type": "markdown",
   "metadata": {},
   "source": [
    "### Plot"
   ]
  },
  {
   "cell_type": "code",
   "execution_count": null,
   "metadata": {
    "scrolled": true
   },
   "outputs": [],
   "source": [
    "fig, ax = plt.subplots(nrows=nd-1,ncols=1, figsize=(10,8))\n",
    "ax = ax.flat\n",
    "\n",
    "for k in range(nd-1):\n",
    "    ax[k].plot(t,uTrue[k,:], label='Truth (hidden)', linewidth = 4)\n",
    "    #ax[k].plot(t,ub[k,:], ':', label='Background', linewidth = 3)\n",
    "    ax[k].plot(t[ind_m],w[k,:], 'o', fillstyle='none', \\\n",
    "               label='Observations', markersize = 8, markeredgewidth = 2, color = 'g')\n",
    "    ax[k].set_xlabel('t',fontsize=22)\n",
    "    #ax[k].axvspan(0, tm_m, color='y', alpha=0.4, lw=0)\n",
    "    for j in range(N):\n",
    "        ax[k].plot(t[1:],uae[k,j,1:], '-', linewidth = 1, color='r')\n",
    "    ax[k].plot(t,ua[k,:], '-', label='Analysis', linewidth = 4, color = 'k')\n",
    "\n",
    "ax[0].legend(loc=\"center\", bbox_to_anchor=(0.5,1.25),ncol =4,fontsize=15)\n",
    "\n",
    "ax[0].set_ylabel('H(t)', labelpad=5)\n",
    "ax[1].set_ylabel('L(t)', labelpad=-12)\n",
    "#ax[2].set_ylabel('z(t)')\n",
    "fig.subplots_adjust(hspace=0.5)\n",
    "\n",
    "w_param = w\n",
    "uae_param = uae\n",
    "ua_param = ua\n",
    "t_param = t"
   ]
  },
  {
   "cell_type": "markdown",
   "metadata": {},
   "source": [
    "## Plot all cases together"
   ]
  },
  {
   "cell_type": "code",
   "execution_count": null,
   "metadata": {},
   "outputs": [],
   "source": [
    "fig, ax = plt.subplots(nrows=2,ncols=2, figsize=(14,6))\n",
    "ax = ax.flat\n",
    "k=1\n",
    "ax[0].plot(t,uTrue[k,:]*100 - 440, label='True', linewidth = 4, color=\"black\")\n",
    "ax[0].plot(tsnap,uSnap[k,:]*100 - 440, label='Prediction', linewidth = 4, color=\"blue\")\n",
    "ax[0].plot(tsnap[0],uSnap[k,0]*100 - 440, 'o', fillstyle='none', label='Observations', markersize = 8, markeredgewidth = 2, color = 'g')\n",
    "#ax[0].set_ylabel('Grounding line position (km)')\n",
    "#ax[0].set_title('Snapshot initialization with single obs.',fontsize=22)\n",
    "ax[0].set_xlim(0,2300)\n",
    "ax[0].set_ylim(-75,50)\n",
    "fig.subplots_adjust(hspace=0.5) \n",
    "\n",
    "#modern obs assim\n",
    "ax[1].plot(t_modern,uTrue[k,:]*100 - 440, label='Truth (hidden)', linewidth = 4, color=\"black\")\n",
    "ax[1].plot(t_modern[ind_m_modern],w_modern[k,:]*100 - 440, 'o', fillstyle='none', label='Observations', markersize = 8, markeredgewidth = 2, color = 'g')\n",
    "for j in range(N):\n",
    "    ax[1].plot(t_modern[1:],uae_modern[k,j,1:]*100 - 440, '-', linewidth = 1, color='r')\n",
    "ax[1].plot(t_modern,ua_modern[k,:]*100 - 440, '-', label='Prediction', linewidth = 4, color=\"blue\")\n",
    "#ax[1].set_ylabel('Grounding line position (km)')\n",
    "#ax[1].set_title('EKF assimilating modern obs.')\n",
    "ax[1].set_xlim(0,2300)\n",
    "ax[1].set_ylim(-75,50)\n",
    "fig.subplots_adjust(hspace=0.5) \n",
    "\n",
    "#all obs assim\n",
    "ax[2].plot(t,uTrue[k,:]*100 - 440, label='Truth (hidden)', linewidth = 4, color=\"black\")\n",
    "ax[2].plot(t_all[ind_m],w_all[k,:]*100 - 440, 'o', fillstyle='none', label='Observations', markersize = 8, markeredgewidth = 2, color = 'g')\n",
    "#ax[2].set_xlabel('t',fontsize=22)\n",
    "for j in range(N):\n",
    "    ax[2].plot(t_all[1:],uae_all[k,j,1:]*100 - 440, '-', linewidth = 1, color='r')\n",
    "ax[2].plot(t_all[1:],uae_all[k,N-1,1:]*100 - 440, '-', linewidth = 1, color='r', label=\"Ensemble members\")\n",
    "ax[2].plot(t_all,ua_all[k,:]*100 - 440, '-', label='Prediction', linewidth = 4, color=\"blue\")\n",
    "#ax[2].set_ylabel('Grounding line position (km)')\n",
    "#ax[2].set_title('EKF assimilating modern/paleo obs.')\n",
    "ax[2].set_xlim(0,2300)\n",
    "ax[2].set_ylim(-75,50)\n",
    "fig.subplots_adjust(hspace=0.5) \n",
    "\n",
    "#all obs assim\n",
    "ax[3].plot(t,uTrue[k,:]*100 - 440, label='Truth (hidden)', linewidth = 4, color=\"black\")\n",
    "ax[3].plot(t_all[ind_m],w_param[k,:]*100 - 440, 'o', fillstyle='none', label='Observations', markersize = 8, markeredgewidth = 2, color = 'g')\n",
    "#ax[3].set_xlabel('t',fontsize=22)\n",
    "for j in range(N):\n",
    "    ax[3].plot(t_all[1:],uae_param[k,j,1:]*100 - 440, '-', linewidth = 1, color='r')\n",
    "ax[3].plot(t_all[1:],uae_param[k,N-1,1:]*100 - 440, '-', linewidth = 1, color='r', label=\"Ensemble members\")\n",
    "ax[3].plot(t_all,ua_param[k,:]*100 - 440, '-', label='Prediction', linewidth = 4, color=\"blue\")\n",
    "#ax[3].set_xlabel('time (years)',fontsize=22)\n",
    "#ax[3].set_ylabel('Grounding line position (km)')\n",
    "#ax[3].set_title('EKF assimilating modern/paleo obs. + parameter estimation')\n",
    "ax[3].set_xlim(0,2300)\n",
    "ax[3].set_ylim(-75,50)\n",
    "fig.subplots_adjust(hspace=0.5) \n",
    "\n",
    "fig.add_subplot(111, frame_on=False)\n",
    "plt.tick_params(labelcolor=\"none\", bottom=False, left=False)\n",
    "\n",
    "plt.xlabel(\"time (yrs)\", fontsize=22)\n",
    "plt.ylabel(\"Grounding line position (km)\", fontsize=22)\n",
    "\n",
    "ax[3].legend(loc=\"center\", bbox_to_anchor=(-0.1,-0.45),ncol =4,fontsize=15)"
   ]
  },
  {
   "cell_type": "code",
   "execution_count": null,
   "metadata": {},
   "outputs": [],
   "source": []
  }
 ],
 "metadata": {
  "kernelspec": {
   "display_name": "Python 3 (ipykernel)",
   "language": "python",
   "name": "python3"
  },
  "language_info": {
   "codemirror_mode": {
    "name": "ipython",
    "version": 3
   },
   "file_extension": ".py",
   "mimetype": "text/x-python",
   "name": "python",
   "nbconvert_exporter": "python",
   "pygments_lexer": "ipython3",
   "version": "3.8.10"
  }
 },
 "nbformat": 4,
 "nbformat_minor": 4
}
